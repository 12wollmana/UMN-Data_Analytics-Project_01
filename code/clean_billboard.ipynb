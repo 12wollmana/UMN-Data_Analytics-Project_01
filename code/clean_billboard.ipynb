{
 "cells": [
  {
   "cell_type": "code",
   "execution_count": 1,
   "metadata": {},
   "outputs": [],
   "source": [
    "import pandas as pd"
   ]
  },
  {
   "cell_type": "code",
   "execution_count": 2,
   "metadata": {},
   "outputs": [
    {
     "data": {
      "text/plain": [
       "['billboard60.csv',\n",
       " 'billboard70.csv',\n",
       " 'billboard80.csv',\n",
       " 'billboard90.csv',\n",
       " 'billboard00.csv',\n",
       " 'billboard10.csv']"
      ]
     },
     "execution_count": 2,
     "metadata": {},
     "output_type": "execute_result"
    }
   ],
   "source": [
    "file_lst=[f'billboard{i}.csv' for i in ['60','70','80','90','00','10']]\n",
    "file_lst"
   ]
  },
  {
   "cell_type": "code",
   "execution_count": 3,
   "metadata": {},
   "outputs": [],
   "source": [
    "def get_data():\n",
    "    for f in file_lst:\n",
    "        print(f,' starts')\n",
    "        try:\n",
    "            data=pd.read_csv('../data/external/'+f,header=None,encoding=\"ISO-8859-1\")\n",
    "            new=data.drop_duplicates()\n",
    "            new.reset_index(inplace=True,drop=True)\n",
    "            dates= [row for index,row in new.iteritems()][0]\n",
    "            songs_monthly=new.drop(0,axis=1)\n",
    "            songs=[row for index,row in songs_monthly.iterrows()]\n",
    "            songs_monthly.set_index(dates,inplace=True)\n",
    "            temp=[]\n",
    "            for index,row in songs_monthly.iterrows():\n",
    "                for n in row:\n",
    "                    temp.append((index,n))\n",
    "            df=pd.DataFrame(temp,columns=['Date','Data'])\n",
    "            df.fillna(\"No Data\",inplace=True)\n",
    "        except:\n",
    "            print(f'Load {f} file fail')\n",
    "        try:\n",
    "        ####\n",
    "            df['Artist']=df['Data'].apply(lambda x: x.split(',')[-1].replace(\"']\",'').replace('\"]','').strip()[1:])\n",
    "            df['Title']=df['Data'].apply(lambda x: x.split(',')[0].replace(\"['\",'').\n",
    "                                    replace('\"]','').replace('[\"','').replace('\"]','').strip()[:-1])\n",
    "\n",
    "            times=int(len(songs_monthly))\n",
    "            rank_list=list(range(1,101))*times\n",
    "            df['Rank']=rank_list\n",
    "\n",
    "            df['Note']=df['Data'].apply(lambda x: 1 if x.count(',')>1 else 0)\n",
    "            #df['Note']=df['Data'].apply(lambda x: 1 if \"'\"in x else 0)\n",
    "            #df['Note']=df['Data'].apply(lambda x: 1 if '\"'in x else 0)\n",
    "        ####\n",
    "        except:\n",
    "            print(f'Process {f} data fail')\n",
    "        df.to_csv('../data/external/clean'+f)\n",
    "        print(f,' ends')\n",
    "        "
   ]
  },
  {
   "cell_type": "code",
   "execution_count": 4,
   "metadata": {},
   "outputs": [
    {
     "name": "stdout",
     "output_type": "stream",
     "text": [
      "billboard60.csv  starts\n",
      "billboard60.csv  ends\n",
      "billboard70.csv  starts\n",
      "billboard70.csv  ends\n",
      "billboard80.csv  starts\n",
      "billboard80.csv  ends\n",
      "billboard90.csv  starts\n",
      "billboard90.csv  ends\n",
      "billboard00.csv  starts\n",
      "billboard00.csv  ends\n",
      "billboard10.csv  starts\n",
      "billboard10.csv  ends\n"
     ]
    }
   ],
   "source": [
    "get_data()"
   ]
  },
  {
   "cell_type": "code",
   "execution_count": null,
   "metadata": {},
   "outputs": [],
   "source": []
  },
  {
   "cell_type": "code",
   "execution_count": 5,
   "metadata": {},
   "outputs": [],
   "source": [
    "def read_file():\n",
    "    t=0\n",
    "    for f in file_lst:\n",
    "        try:\n",
    "            data=pd.read_csv('../data/external/clean'+f)\n",
    "            n=data['Note'].sum()\n",
    "            print(f'{f} has {n} rows that need to be manaully edit')\n",
    "            t+=n\n",
    "        except:\n",
    "            print(f'{f} not exist')\n",
    "        print(t)"
   ]
  },
  {
   "cell_type": "code",
   "execution_count": 6,
   "metadata": {
    "scrolled": true
   },
   "outputs": [
    {
     "name": "stdout",
     "output_type": "stream",
     "text": [
      "billboard60.csv has 640 rows that need to be manaully edit\n",
      "640\n",
      "billboard70.csv has 643 rows that need to be manaully edit\n",
      "1283\n",
      "billboard80.csv has 273 rows that need to be manaully edit\n",
      "1556\n",
      "billboard90.csv has 318 rows that need to be manaully edit\n",
      "1874\n",
      "billboard00.csv has 383 rows that need to be manaully edit\n",
      "2257\n",
      "billboard10.csv has 501 rows that need to be manaully edit\n",
      "2758\n"
     ]
    }
   ],
   "source": [
    "read_file()"
   ]
  },
  {
   "cell_type": "code",
   "execution_count": null,
   "metadata": {},
   "outputs": [],
   "source": []
  },
  {
   "cell_type": "code",
   "execution_count": null,
   "metadata": {},
   "outputs": [],
   "source": []
  },
  {
   "cell_type": "code",
   "execution_count": null,
   "metadata": {},
   "outputs": [],
   "source": []
  }
 ],
 "metadata": {
  "kernelspec": {
   "display_name": "Python 3",
   "language": "python",
   "name": "python3"
  },
  "language_info": {
   "codemirror_mode": {
    "name": "ipython",
    "version": 3
   },
   "file_extension": ".py",
   "mimetype": "text/x-python",
   "name": "python",
   "nbconvert_exporter": "python",
   "pygments_lexer": "ipython3",
   "version": "3.7.4"
  }
 },
 "nbformat": 4,
 "nbformat_minor": 2
}
