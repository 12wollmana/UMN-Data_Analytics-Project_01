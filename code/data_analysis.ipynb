{
 "cells": [
  {
   "cell_type": "markdown",
   "metadata": {},
   "source": [
    "# Data Analysis\n",
    "<em>Aaron Wollman, Albin Joseph, Kelsey Richardson Blackwell, Will Huang</em>\n",
    "\n",
    "In this notebook, the code will ..."
   ]
  },
  {
   "cell_type": "markdown",
   "metadata": {},
   "source": [
    "## Setup & Import Data"
   ]
  },
  {
   "cell_type": "code",
   "execution_count": null,
   "metadata": {},
   "outputs": [],
   "source": [
    "%matplotlib inline"
   ]
  },
  {
   "cell_type": "code",
   "execution_count": null,
   "metadata": {},
   "outputs": [],
   "source": [
    "# Dependencies\n",
    "import pandas as pd\n",
    "import matplotlib.pyplot as plt\n",
    "import seaborn as sns\n",
    "import statistics\n",
    "import numpy as np\n",
    "from scipy.stats import linregress\n",
    "import scipy.stats as st"
   ]
  },
  {
   "cell_type": "code",
   "execution_count": null,
   "metadata": {},
   "outputs": [],
   "source": [
    "# Constants\n",
    "class Filepaths:\n",
    "    root = \"../data/\"\n",
    "    music_unemployment = f\"{root}music_and_unemployment.csv\"\n",
    "    billboard_hits = f\"{root}billboard_hits.csv\"\n",
    "    unemployment = f\"{root}unemployment.csv\"\n",
    "\n",
    "class Music_Unemploy_Cols:\n",
    "    track = \"Track\"\n",
    "    artist = \"Artist\"\n",
    "    placement = \"Placement\"\n",
    "    year = \"Year\"\n",
    "    month = \"Month\"\n",
    "    day = \"Day\"\n",
    "    danceability = \"danceability\"\n",
    "    energy = \"energy\"\n",
    "    key = \"key\"\n",
    "    loudness = \"loudness\"\n",
    "    speechiness = \"speechiness\"\n",
    "    acousticness = \"acousticness\"\n",
    "    liveness = \"liveness\"\n",
    "    valence = \"valence\"\n",
    "    tempo = \"tempo\"\n",
    "    unemploy_rate = \"Unemployment Rate\""
   ]
  },
  {
   "cell_type": "code",
   "execution_count": null,
   "metadata": {},
   "outputs": [],
   "source": [
    "# Import Music and Unemployment CSV\n",
    "music_unemployment = pd.read_csv(Filepaths.music_unemployment, index_col = 0)\n",
    "music_unemployment.head()"
   ]
  },
  {
   "cell_type": "markdown",
   "metadata": {},
   "source": [
    "## Unemployment"
   ]
  },
  {
   "cell_type": "code",
   "execution_count": null,
   "metadata": {},
   "outputs": [],
   "source": [
    "class Unemploy_Cols:\n",
    "    year = \"Year\"\n",
    "    month = \"Month\"\n",
    "    rate = \"Unemployment Rate\""
   ]
  },
  {
   "cell_type": "code",
   "execution_count": null,
   "metadata": {},
   "outputs": [],
   "source": [
    "unemployement_time = pd.read_csv(Filepaths.unemployment, index_col = 0)\n",
    "unemployement_time.head()"
   ]
  },
  {
   "cell_type": "code",
   "execution_count": null,
   "metadata": {},
   "outputs": [],
   "source": [
    "unemployement_time_pivot=unemployement_time.pivot(\n",
    "    Unemploy_Cols.year, Unemploy_Cols.month, Unemploy_Cols.rate)\n",
    "unemployement_time_pivot.head()"
   ]
  },
  {
   "cell_type": "code",
   "execution_count": null,
   "metadata": {},
   "outputs": [],
   "source": [
    "# Display the Standard Deviation per Year\n",
    "temp=unemployement_time_pivot.copy()\n",
    "temp['STD']=[statistics.stdev(temp.loc[index,:]) for index,row in temp.iterrows()]\n",
    "temp.head()"
   ]
  },
  {
   "cell_type": "markdown",
   "metadata": {},
   "source": [
    "To show the how the unemployment rate has changed over time, the code will use a heatmap.  The darker the shade of blue, the higher the unemployment rate."
   ]
  },
  {
   "cell_type": "code",
   "execution_count": null,
   "metadata": {},
   "outputs": [],
   "source": [
    "# Show all years in one heatmap.\n",
    "plt.figure(figsize=(15,20))\n",
    "sns.heatmap(unemployement_time_pivot,cmap=(\"Blues\"))\n",
    "plt.title(\"Unemployment Rate between 1960 and 2020\")\n",
    "plt.show()"
   ]
  },
  {
   "cell_type": "code",
   "execution_count": null,
   "metadata": {},
   "outputs": [],
   "source": [
    "# Show the heatmap per decade.  Should be equivalent to the above graph.\n",
    "vmax=unemployement_time_pivot.max().max()\n",
    "vmin=unemployement_time_pivot.min().min()"
   ]
  },
  {
   "cell_type": "code",
   "execution_count": null,
   "metadata": {
    "scrolled": true
   },
   "outputs": [],
   "source": [
    "fig,axes=plt.subplots(7,1,figsize=(10,20),sharex=True)\n",
    "i = 0\n",
    "for axis in axes:\n",
    "    data = unemployement_time_pivot[i*10 : (i+1) * 10]\n",
    "    axis.set_title(f\"Unemployment in the {1960 + (i*10)}s\")\n",
    "    sns.heatmap(data,cmap=(\"Blues\"),ax=axis,vmax=vmax,vmin=vmin)\n",
    "    i += 1\n",
    "\n",
    "plt.show()"
   ]
  },
  {
   "cell_type": "markdown",
   "metadata": {},
   "source": [
    "## Song Valence\n",
    "\n",
    "[Spotify's API](https://developer.spotify.com/documentation/web-api/reference/tracks/get-audio-features/) defines a song's valence as:\n",
    "\n",
    "<blockquote>\"A measure from 0.0 to 1.0 describing the musical positiveness conveyed by a track. Tracks with high valence sound more positive (e.g. happy, cheerful, euphoric), while tracks with low valence sound more negative (e.g. sad, depressed, angry).\"</blockquote>\n",
    "\n",
    "For this project, this can be considered our \"happiness\" metric."
   ]
  },
  {
   "cell_type": "markdown",
   "metadata": {},
   "source": [
    "## Song Valence vs Unemployment"
   ]
  },
  {
   "cell_type": "markdown",
   "metadata": {},
   "source": [
    "To compare the song's valence to the unemployment, the code will first try to find a correlation between each month's average valence and the unemployment rate."
   ]
  },
  {
   "cell_type": "code",
   "execution_count": null,
   "metadata": {},
   "outputs": [],
   "source": [
    "def regression_plot(dataframe, x_col, y_col):\n",
    "    # Plot the scatter plot\n",
    "    dataframe.plot(kind=\"scatter\", x = x_col, y = y_col)\n",
    "    \n",
    "    # Calculate the correlation coefficient and linear regression model \n",
    "    x_values = dataframe[x_col]\n",
    "    y_values = dataframe[y_col]\n",
    "    (slope, intercept, rvalue, pvalue, stderr) = linregress(x_values, y_values)\n",
    "    regress_values = x_values * slope + intercept\n",
    "    equation = \"y = \" + str(round(slope,2)) + \"x + \" + str(round(intercept,2))\n",
    "    eq_label = f\"{equation} \\nr-squared = {round(rvalue * rvalue, 3)}\"\n",
    "    regress_plot, = plt.plot(x_values, regress_values, \"r-\", label=eq_label)\n",
    "    plt.legend(handles=[regress_plot], loc=\"best\")"
   ]
  },
  {
   "cell_type": "code",
   "execution_count": null,
   "metadata": {},
   "outputs": [],
   "source": [
    "# Group by the song's date\n",
    "date_cols = [Music_Unemploy_Cols.year, \n",
    "             Music_Unemploy_Cols.month, \n",
    "             Music_Unemploy_Cols.day]\n",
    "music_unemployment_gb = music_unemployment.groupby(date_cols)\n",
    "\n",
    "# Find the average of unemployment rate and weighed valence for each date\n",
    "avg_music_unemploy = music_unemployment_gb.mean()\n",
    "rate_v_valence = avg_music_unemploy[[Music_Unemploy_Cols.unemploy_rate, \n",
    "                                     Music_Unemploy_Cols.valence]]\n",
    "\n",
    "# Create a Scatter Graph\n",
    "regression_plot(rate_v_valence, \n",
    "                Music_Unemploy_Cols.unemploy_rate, \n",
    "                Music_Unemploy_Cols.valence)\n",
    "plt.title(\"Unemployment Rate vs. Valence (Happiness)\")\n",
    "plt.xlabel(\"Unemployment Rate\")\n",
    "plt.ylabel(\"Valence (Happiness)\")\n",
    "plt.show()"
   ]
  },
  {
   "cell_type": "markdown",
   "metadata": {},
   "source": [
    "From the above graph, there is <b>not</b> a good correlation between valence and the unemployment rate. With the above, the data doesn't take the song's placement in the Top 100 into account.  Let's try again using a weighted average of the Top 100."
   ]
  },
  {
   "cell_type": "code",
   "execution_count": null,
   "metadata": {},
   "outputs": [],
   "source": [
    "# Create a new data point \"Weighted Valence\"\n",
    "Music_Unemploy_Cols.weighed_valence = \"weighed valence\"\n",
    "weights = (101 - music_unemployment[Music_Unemploy_Cols.placement])\n",
    "weighed_valence = music_unemployment[Music_Unemploy_Cols.valence] * weights\n",
    "music_unemployment[Music_Unemploy_Cols.weighed_valence] = weighed_valence\n",
    "music_unemployment.head()"
   ]
  },
  {
   "cell_type": "code",
   "execution_count": null,
   "metadata": {},
   "outputs": [],
   "source": [
    "# Group by the song's date\n",
    "music_unemployment_gb = music_unemployment.groupby(date_cols)\n",
    "\n",
    "# Find the average of unemployment rate and weighed valence for each date\n",
    "avg_music_unemploy = music_unemployment_gb.mean()\n",
    "rate_v_valence = avg_music_unemploy[[Music_Unemploy_Cols.unemploy_rate, \n",
    "                                     Music_Unemploy_Cols.weighed_valence]]\n",
    "\n",
    "# Create a Scatter Graph\n",
    "regression_plot(rate_v_valence, \n",
    "                Music_Unemploy_Cols.unemploy_rate, \n",
    "                Music_Unemploy_Cols.weighed_valence)\n",
    "plt.title(\"Unemployment Rate vs. Valence (Happiness)\")\n",
    "plt.xlabel(\"Unemployment Rate\")\n",
    "plt.ylabel(\"Weighed Valence (Happiness)\")\n",
    "plt.show()"
   ]
  },
  {
   "cell_type": "markdown",
   "metadata": {},
   "source": [
    "Even with a weighted average, there still isn't a good correlation between the average valence and the unemployment rate. Let's now look to see if there is another musical attribute that might correlate to unemployment."
   ]
  },
  {
   "cell_type": "markdown",
   "metadata": {},
   "source": [
    "## Finding an Alternative Music Attribute"
   ]
  },
  {
   "cell_type": "markdown",
   "metadata": {},
   "source": []
  },
  {
   "cell_type": "code",
   "execution_count": null,
   "metadata": {},
   "outputs": [],
   "source": [
    "unemployment_rate_list=[]\n",
    "for i in range(len(unemployement_time_pivot)):\n",
    "    for j in unemployement_time_pivot.iloc[i,1:]:\n",
    "        unemployment_rate_list.append(j)\n",
    "unemployment_rate_list[:5]"
   ]
  },
  {
   "cell_type": "code",
   "execution_count": null,
   "metadata": {},
   "outputs": [],
   "source": [
    "plt.boxplot(unemployment_rate_list)\n",
    "plt.show()"
   ]
  },
  {
   "cell_type": "code",
   "execution_count": null,
   "metadata": {},
   "outputs": [],
   "source": [
    "high_unemployment_rate=np.quantile(unemployment_rate_list, .75) ###7.0\n",
    "data[\"weighed valence\"] = data[\"valence\"] * (101 - data[\"Placement\"])\n",
    "data['High_Unemployment']=data['Unemployment Rate'].apply(lambda x: 1 if x>=high_unemployment_rate else 0)\n",
    "\n",
    "data.head()"
   ]
  },
  {
   "cell_type": "code",
   "execution_count": null,
   "metadata": {},
   "outputs": [],
   "source": [
    "music_unemployment[\"weighed valence\"] = music_unemployment[\"valence\"] * (101 - music_unemployment[\"Placement\"])\n",
    "music_unemployment['weighed danceability']=music_unemployment[\"danceability\"] * (101 - music_unemployment[\"Placement\"])\n",
    "music_unemployment['weighed energy']=music_unemployment[\"energy\"] * (101 - music_unemployment[\"Placement\"])\n",
    "music_unemployment['weighed key']=music_unemployment[\"key\"] * (101 - music_unemployment[\"Placement\"])\n",
    "music_unemployment['weighed loudness']=music_unemployment[\"loudness\"] * (101 - music_unemployment[\"Placement\"])\n",
    "music_unemployment['weighed speechiness']=music_unemployment[\"speechiness\"] * (101 - music_unemployment[\"Placement\"])\n",
    "music_unemployment['weighed acousticness']=music_unemployment[\"acousticness\"] * (101 - music_unemployment[\"Placement\"])\n",
    "music_unemployment['weighed liveness']=music_unemployment[\"liveness\"] * (101 - music_unemployment[\"Placement\"])\n",
    "music_unemployment['weighed tempo']=music_unemployment[\"tempo\"] * (101 - music_unemployment[\"Placement\"])\n",
    "music_unemployment['High_Unemployment']=music_unemployment['Unemployment Rate'].apply(lambda x: 1 if x>=high_unemployment_rate else 0)"
   ]
  },
  {
   "cell_type": "code",
   "execution_count": null,
   "metadata": {},
   "outputs": [],
   "source": [
    "music_unemployment.head()"
   ]
  },
  {
   "cell_type": "code",
   "execution_count": null,
   "metadata": {},
   "outputs": [],
   "source": [
    "music_unemployment_group=music_unemployment.groupby(['Year','Month','Day'])[['High_Unemployment','Unemployment Rate',\n",
    "       'weighed valence', 'weighed danceability', 'weighed energy',\n",
    "       'weighed key', 'weighed loudness', 'weighed speechiness',\n",
    "       'weighed acousticness', 'weighed liveness', 'weighed tempo']].mean()"
   ]
  },
  {
   "cell_type": "code",
   "execution_count": null,
   "metadata": {},
   "outputs": [],
   "source": [
    "compare_list=['weighed valence', 'weighed danceability', 'weighed energy',\n",
    "       'weighed key', 'weighed loudness', 'weighed speechiness',\n",
    "       'weighed acousticness', 'weighed liveness', 'weighed tempo']\n",
    "for i in compare_list:\n",
    "    plt.figure(figsize=(10,5))\n",
    "    sns.scatterplot(x='Unemployment Rate',y=i,hue='High_Unemployment',data=music_unemployment_group)"
   ]
  },
  {
   "cell_type": "code",
   "execution_count": null,
   "metadata": {},
   "outputs": [],
   "source": [
    "music_unemployment_group[i][music_unemployment_group['High_Unemployment']==1]"
   ]
  },
  {
   "cell_type": "code",
   "execution_count": null,
   "metadata": {},
   "outputs": [],
   "source": [
    "compare_list"
   ]
  },
  {
   "cell_type": "code",
   "execution_count": null,
   "metadata": {},
   "outputs": [],
   "source": [
    "row=0\n",
    "col=0\n",
    "fig,axes=plt.subplots(3,3,figsize=(15,15))\n",
    "for i in compare_list:\n",
    "    if col>2:\n",
    "        row+=1\n",
    "        col=0\n",
    "        sns.boxplot(x='High_Unemployment',y=i,data=music_unemployment_group[[i,'High_Unemployment']],ax=axes[row][col])\n",
    "        col+=1\n",
    "        \n",
    "    else:\n",
    "        sns.boxplot(x='High_Unemployment',y=i,data=music_unemployment_group[[i,'High_Unemployment']],ax=axes[row][col])\n",
    "        col+=1\n",
    "        "
   ]
  },
  {
   "cell_type": "code",
   "execution_count": null,
   "metadata": {},
   "outputs": [],
   "source": [
    "music_unemployment_group.columns"
   ]
  },
  {
   "cell_type": "code",
   "execution_count": null,
   "metadata": {},
   "outputs": [],
   "source": [
    "statistic_list=[]\n",
    "pvalue_list=[]\n",
    "for i in compare_list:\n",
    "    group1=music_unemployment_group[i][music_unemployment_group['High_Unemployment']==1]\n",
    "    group2=music_unemployment_group[i][music_unemployment_group['High_Unemployment']==0]\n",
    "    statistic=st.f_oneway(group1,group2)[0]\n",
    "    pvalue=st.f_oneway(group1,group2)[1]\n",
    "    statistic_list.append(statistic)\n",
    "    pvalue_list.append(pvalue)\n",
    "    print(f' ANOVA Result for {i} vs. High_Unemployment\\n {st.f_oneway(group1,group2)}\\n==================')"
   ]
  },
  {
   "cell_type": "code",
   "execution_count": null,
   "metadata": {},
   "outputs": [],
   "source": [
    "siginificant_list=[1 if i <=0.05 else 0 for i in pvalue_list]\n",
    "anova=pd.DataFrame({'Feature':compare_list,'Statistic':statistic_list,'Pvalue':pvalue_list,'Siginificant':siginificant_list})\n",
    "anova.sort_values('Pvalue')"
   ]
  },
  {
   "cell_type": "code",
   "execution_count": null,
   "metadata": {},
   "outputs": [],
   "source": [
    "anova.sort_values('Siginificant',ascending=False)"
   ]
  },
  {
   "cell_type": "code",
   "execution_count": null,
   "metadata": {},
   "outputs": [],
   "source": [
    "row=0\n",
    "col=0\n",
    "fig,axes=plt.subplots(3,3,figsize=(15,15))\n",
    "for i in ['weighed danceability',\n",
    "'weighed energy',\n",
    "'weighed speechiness',\n",
    "'weighed acousticness',\n",
    "'weighed tempo']:\n",
    "    if col>2:\n",
    "        row+=1\n",
    "        col=0\n",
    "        sns.boxplot(x='High_Unemployment',y=i,data=music_unemployment_group[[i,'High_Unemployment']],ax=axes[row][col])\n",
    "        col+=1\n",
    "        \n",
    "    else:\n",
    "        sns.boxplot(x='High_Unemployment',y=i,data=music_unemployment_group[[i,'High_Unemployment']],ax=axes[row][col])\n",
    "        col+=1\n",
    "        "
   ]
  },
  {
   "cell_type": "code",
   "execution_count": null,
   "metadata": {},
   "outputs": [],
   "source": [
    "# Aar"
   ]
  },
  {
   "cell_type": "code",
   "execution_count": null,
   "metadata": {},
   "outputs": [],
   "source": []
  },
  {
   "cell_type": "code",
   "execution_count": null,
   "metadata": {},
   "outputs": [],
   "source": []
  }
 ],
 "metadata": {
  "kernelspec": {
   "display_name": "Python 3",
   "language": "python",
   "name": "python3"
  },
  "language_info": {
   "codemirror_mode": {
    "name": "ipython",
    "version": 3
   },
   "file_extension": ".py",
   "mimetype": "text/x-python",
   "name": "python",
   "nbconvert_exporter": "python",
   "pygments_lexer": "ipython3",
   "version": "3.6.10"
  }
 },
 "nbformat": 4,
 "nbformat_minor": 4
}
