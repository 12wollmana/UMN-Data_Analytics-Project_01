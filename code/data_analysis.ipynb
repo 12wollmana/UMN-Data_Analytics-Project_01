{
 "cells": [
  {
   "cell_type": "markdown",
   "metadata": {},
   "source": [
    "## Data Analysis\n",
    "\n",
    "<em>Aaron Wollman, Albin Joseph, Kelsey Richardson Blackwell, Will Huang</em>\n",
    "\n",
    "In this notebook, we analized if the measure of “musical positiveness”in the Top 100 Hits and the US’s unemployment data have a strong correlation?  Is the correlation strong enough to predict next month? Are there other attributes besides happiness that have a stronger correlation - danceability, energy, tempo, speech?"
   ]
  },
  {
   "cell_type": "code",
   "execution_count": null,
   "metadata": {},
   "outputs": [],
   "source": [
    "%matplotlib inline"
   ]
  },
  {
   "cell_type": "code",
   "execution_count": null,
   "metadata": {},
   "outputs": [],
   "source": [
    "# Dependencies\n",
    "import pandas as pd\n",
    "import matplotlib.pyplot as plt\n",
    "import seaborn as sns\n",
    "import statistics\n",
    "import numpy as np\n",
    "from scipy.stats import linregress\n",
    "import scipy.stats as st"
   ]
  },
  {
   "cell_type": "code",
   "execution_count": null,
   "metadata": {},
   "outputs": [],
   "source": [
    "# Constants\n",
    "class Filepaths:\n",
    "    root = \"../data/\"\n",
    "    music_unemployment = f\"{root}music_and_unemployment.csv\"\n",
    "    billboard_hits = f\"{root}billboard_hits.csv\"\n",
    "    unemployment = f\"{root}unemployment.csv\"\n",
    "\n",
    "class Music_Unemploy_Cols:\n",
    "    track = \"Track\"\n",
    "    artist = \"Artist\"\n",
    "    placement = \"Placement\"\n",
    "    year = \"Year\"\n",
    "    month = \"Month\"\n",
    "    day = \"Day\"\n",
    "    danceability = \"danceability\"\n",
    "    energy = \"energy\"\n",
    "    key = \"key\"\n",
    "    loudness = \"loudness\"\n",
    "    speechiness = \"speechiness\"\n",
    "    acousticness = \"acousticness\"\n",
    "    liveness = \"liveness\"\n",
    "    valence = \"valence\"\n",
    "    tempo = \"tempo\"\n",
    "    unemploy_rate = \"Unemployment Rate\""
   ]
  },
  {
   "cell_type": "code",
   "execution_count": null,
   "metadata": {},
   "outputs": [],
   "source": [
    "# Import Music and Unemployment CSV\n",
    "music_unemployment = pd.read_csv(Filepaths.music_unemployment, index_col = 0)\n",
    "music_unemployment.head()"
   ]
  },
  {
   "cell_type": "markdown",
   "metadata": {},
   "source": [
    "## Unemployment"
   ]
  },
  {
   "cell_type": "code",
   "execution_count": null,
   "metadata": {},
   "outputs": [],
   "source": [
    "class Unemploy_Cols:\n",
    "    year = \"Year\"\n",
    "    month = \"Month\"\n",
    "    rate = \"Unemployment Rate\""
   ]
  },
  {
   "cell_type": "code",
   "execution_count": null,
   "metadata": {},
   "outputs": [],
   "source": [
    "unemployement_time = pd.read_csv(Filepaths.unemployment, index_col = 0)\n",
    "unemployement_time.head()"
   ]
  },
  {
   "cell_type": "code",
   "execution_count": null,
   "metadata": {},
   "outputs": [],
   "source": [
    "unemployement_time_pivot=unemployement_time.pivot(\n",
    "    Unemploy_Cols.year, Unemploy_Cols.month, Unemploy_Cols.rate)\n",
    "unemployement_time_pivot.head()"
   ]
  },
  {
   "cell_type": "code",
   "execution_count": null,
   "metadata": {},
   "outputs": [],
   "source": [
    "# Display the Standard Deviation per Year\n",
    "temp=unemployement_time_pivot.copy()\n",
    "temp['STD']=[statistics.stdev(temp.loc[index,:]) for index,row in temp.iterrows()]\n",
    "temp.head()"
   ]
  },
  {
   "cell_type": "markdown",
   "metadata": {},
   "source": [
    "To show the how the unemployment rate has changed over time, the code will use a heatmap.  The darker the shade of blue, the higher the unemployment rate."
   ]
  },
  {
   "cell_type": "code",
   "execution_count": null,
   "metadata": {},
   "outputs": [],
   "source": [
    "# Show all years in one heatmap.\n",
    "plt.figure(figsize=(15,20))\n",
    "sns.heatmap(unemployement_time_pivot,cmap=(\"Blues\"))\n",
    "plt.title(\"Unemployment Rate between 1960 and 2020\")\n",
    "plt.show()"
   ]
  },
  {
   "cell_type": "code",
   "execution_count": null,
   "metadata": {},
   "outputs": [],
   "source": [
    "# Show the heatmap per decade.  Should be equivalent to the above graph.\n",
    "vmax=unemployement_time_pivot.max().max()\n",
    "vmin=unemployement_time_pivot.min().min()"
   ]
  },
  {
   "cell_type": "code",
   "execution_count": null,
   "metadata": {
    "scrolled": true
   },
   "outputs": [],
   "source": [
    "fig,axes=plt.subplots(7,1,figsize=(10,20),sharex=True)\n",
    "i = 0\n",
    "for axis in axes:\n",
    "    data = unemployement_time_pivot[i*10 : (i+1) * 10]\n",
    "    axis.set_title(f\"Unemployment in the {1960 + (i*10)}s\")\n",
    "    sns.heatmap(data,cmap=(\"Blues\"),ax=axis,vmax=vmax,vmin=vmin)\n",
    "    i += 1\n",
    "\n",
    "plt.show()"
   ]
  },
  {
   "cell_type": "markdown",
   "metadata": {},
   "source": [
    "## Song Valence\n",
    "\n",
    "[Spotify's API](https://developer.spotify.com/documentation/web-api/reference/tracks/get-audio-features/) defines a song's valence as:\n",
    "\n",
    "<blockquote>\"A measure from 0.0 to 1.0 describing the musical positiveness conveyed by a track. Tracks with high valence sound more positive (e.g. happy, cheerful, euphoric), while tracks with low valence sound more negative (e.g. sad, depressed, angry).\"</blockquote>\n",
    "\n",
    "For this project, this can be considered our \"happiness\" metric."
   ]
  },
  {
   "cell_type": "markdown",
   "metadata": {},
   "source": [
    "## Song Valence vs Unemployment"
   ]
  },
  {
   "cell_type": "markdown",
   "metadata": {},
   "source": [
    "To compare the song's valence to the unemployment, the code will first try to find a correlation between each month's average valence and the unemployment rate."
   ]
  },
  {
   "cell_type": "code",
   "execution_count": null,
   "metadata": {},
   "outputs": [],
   "source": [
    "def regression_plot(dataframe, x_col, y_col):\n",
    "    # Plot the scatter plot\n",
    "    dataframe.plot(kind=\"scatter\", x = x_col, y = y_col)\n",
    "    \n",
    "    # Calculate the correlation coefficient and linear regression model \n",
    "    x_values = dataframe[x_col]\n",
    "    y_values = dataframe[y_col]\n",
    "    (slope, intercept, rvalue, pvalue, stderr) = linregress(x_values, y_values)\n",
    "    regress_values = x_values * slope + intercept\n",
    "    equation = \"y = \" + str(round(slope,2)) + \"x + \" + str(round(intercept,2))\n",
    "    eq_label = f\"{equation} \\nr-squared = {round(rvalue * rvalue, 3)}\"\n",
    "    regress_plot, = plt.plot(x_values, regress_values, \"r-\", label=eq_label)\n",
    "    plt.legend(handles=[regress_plot], loc=\"best\")"
   ]
  },
  {
   "cell_type": "code",
   "execution_count": null,
   "metadata": {},
   "outputs": [],
   "source": [
    "# Group by the song's date\n",
    "date_cols = [Music_Unemploy_Cols.year, \n",
    "             Music_Unemploy_Cols.month, \n",
    "             Music_Unemploy_Cols.day]\n",
    "music_unemployment_gb = music_unemployment.groupby(date_cols)\n",
    "\n",
    "# Find the average of unemployment rate and weighed valence for each date\n",
    "avg_music_unemploy = music_unemployment_gb.mean()\n",
    "rate_v_valence = avg_music_unemploy[[Music_Unemploy_Cols.unemploy_rate, \n",
    "                                     Music_Unemploy_Cols.valence]]\n",
    "\n",
    "# Create a Scatter Graph\n",
    "regression_plot(rate_v_valence, \n",
    "                Music_Unemploy_Cols.unemploy_rate, \n",
    "                Music_Unemploy_Cols.valence)\n",
    "plt.title(\"Unemployment Rate vs. Valence (Happiness)\")\n",
    "plt.xlabel(\"Unemployment Rate\")\n",
    "plt.ylabel(\"Valence (Happiness)\")\n",
    "plt.show()"
   ]
  },
  {
   "cell_type": "markdown",
   "metadata": {},
   "source": [
    "From the above graph, there is <b>not</b> a good correlation between valence and the unemployment rate. With the above, the data doesn't take the song's placement in the Top 100 into account.  Let's try again using a weighted average of the Top 100."
   ]
  },
  {
   "cell_type": "code",
   "execution_count": null,
   "metadata": {},
   "outputs": [],
   "source": [
    "# Create a new data point \"Weighted Valence\"\n",
    "Music_Unemploy_Cols.weighed_valence = \"weighed valence\"\n",
    "weights = (101 - music_unemployment[Music_Unemploy_Cols.placement])\n",
    "weighed_valence = music_unemployment[Music_Unemploy_Cols.valence] * weights\n",
    "music_unemployment[Music_Unemploy_Cols.weighed_valence] = weighed_valence\n",
    "music_unemployment.head()"
   ]
  },
  {
   "cell_type": "code",
   "execution_count": null,
   "metadata": {},
   "outputs": [],
   "source": [
    "# Group by the song's date\n",
    "music_unemployment_gb = music_unemployment.groupby(date_cols)\n",
    "\n",
    "# Find the average of unemployment rate and weighed valence for each date\n",
    "avg_music_unemploy = music_unemployment_gb.mean()\n",
    "rate_v_valence = avg_music_unemploy[[Music_Unemploy_Cols.unemploy_rate, \n",
    "                                     Music_Unemploy_Cols.weighed_valence]]\n",
    "\n",
    "# Create a Scatter Graph\n",
    "regression_plot(rate_v_valence, \n",
    "                Music_Unemploy_Cols.unemploy_rate, \n",
    "                Music_Unemploy_Cols.weighed_valence)\n",
    "plt.title(\"Unemployment Rate vs. Valence (Happiness)\")\n",
    "plt.xlabel(\"Unemployment Rate\")\n",
    "plt.ylabel(\"Weighed Valence (Happiness)\")\n",
    "plt.show()"
   ]
  },
  {
   "cell_type": "markdown",
   "metadata": {},
   "source": [
    "Even with a weighted average, there still isn't a good correlation between the average valence and the unemployment rate. Let's now look to see if there is another musical attribute that might correlate to unemployment."
   ]
  },
  {
   "cell_type": "markdown",
   "metadata": {},
   "source": [
    "## Finding an Alternative Music Attribute"
   ]
  },
  {
   "cell_type": "markdown",
   "metadata": {},
   "outputs": [],
   "source": []
  },
  {
   "cell_type": "code",
   "execution_count": null,
   "metadata": {},
   "outputs": [],
   "source": [
    "data[\"weighed energy\"] = data[\"energy\"] * (101 - data[\"Placement\"])\n",
    "data[\"weighed tempo\"] = data[\"tempo\"] * (101 - data[\"tempo\"])"
   ]
  },
  {
    "cell_type": "code",
   "execution_count": null,
   "metadata": {},
   "outputs": [],
   "source": [
    "plt.boxplot(unemployment_rate_list)\n",
    "plt.show()"
   ]
  },
  {
   "cell_type": "code",
   "execution_count": null,
    "source": [
     "high_unemployment_rate=np.quantile(unemployment_rate_list, .75) ###7.0\n",
     "data[\"weighed valence\"] = data[\"valence\"] * (101 - data[\"Placement\"])\n",
     "data['High_Unemployment']=data['Unemployment Rate'].apply(lambda x: 1 if x>=high_unemployment_rate else 0)\n",
    ]
  },
  {
   "cell_type": "markdown",
   "metadata": {},
    "source": [
    "## Unemployment Rate vs. Energy\n",
    "\n",
    "We ran a regression for the unemployment rate versus energy and discovered there is a positive relationship between the energy in a song and the unemployment rate."
   ]
  },
  {
   "cell_type": "code",
   "execution_count": null,
   "metadata": {},
   "outputs": [],
   "source": [
    "# Group by the song's date\n",
    "data_gb = data.groupby([\"Year\", \"Month\", \"Day\"])\n",
    "\n",
    "# Find the average of unemployment rate and weighed valence for each date\n",
    "rate_v_energy = data_gb.mean()[[\"Unemployment Rate\", \"weighed energy\"]]\n",
    "\n",
    "# Create a Scatter Graph\n",
    "rate_v_energy.plot(kind=\"scatter\", x = \"Unemployment Rate\", y = \"weighed energy\")\n",
    "\n",
    "# Calculate the correlation coefficient and linear regression model \n",
    "x_values = rate_v_energy[\"Unemployment Rate\"]\n",
    "y_values = rate_v_energy[\"weighed energy\"]\n",
    "\n",
    "(slope, intercept, rvalue, pvalue, stderr) = linregress(x_values, y_values)\n",
    "regress_values = x_values * slope + intercept\n",
    "line_eq = \"y = \" + str(round(slope,2)) + \"x + \" + str(round(intercept,2))\n",
    "\n",
    "plt.plot(x_values,regress_values,\"r-\")\n",
    "plt.annotate(line_eq,(5,22),fontsize=15,color=\"red\")\n",
    "\n",
    "plt.title(\"Unemployment Rate vs. Energy\")\n",
    "plt.xlabel(\"Unemployment Rate\")\n",
    "plt.ylabel(\"Energy\")\n",
    "plt.show()"
   ]
  },
  {
   "cell_type": "markdown",
   "metadata": {},
   "source": [
    "## Unemployment Rate vs. Tempo\n",
    "\n",
    "We ran a regression for the unemployment rate versus tempo and discovered there is a slight negative relationship between tempo in a song and the unemployment rate."
   ]
  },
  {
   "cell_type": "code",
   "execution_count": null,
   "metadata": {},
   "outputs": [],
   "source": [
    "# Group by the song's date\n",
    "data_gb = data.groupby([\"Year\", \"Month\", \"Day\"])\n",
    "\n",
    "# Find the average of unemployment rate and weighed valence for each date\n",
    "rate_v_tempo = data_gb.mean()[[\"Unemployment Rate\", \"weighed tempo\"]]\n",
    "\n",
    "# Create a Scatter Graph\n",
    "rate_v_tempo.plot(kind=\"scatter\", x = \"Unemployment Rate\", y = \"weighed tempo\")\n",
    "\n",
    "# Calculate the correlation coefficient and linear regression model \n",
    "x_values = rate_v_tempo[\"Unemployment Rate\"]\n",
    "y_values = rate_v_tempo[\"weighed tempo\"]\n",
    "\n",
    "(slope, intercept, rvalue, pvalue, stderr) = linregress(x_values, y_values)\n",
    "regress_values = x_values * slope + intercept\n",
    "line_eq = \"y = \" + str(round(slope,2)) + \"x + \" + str(round(intercept,2))\n",
    "\n",
    "plt.plot(x_values,regress_values,\"r-\")\n",
    "plt.annotate(line_eq,(8,-1800),fontsize=15,color=\"red\")\n",
    "\n",
    "plt.title(\"Unemployment Rate vs. Tempo\")\n",
    "plt.xlabel(\"Unemployment Rate\")\n",
    "plt.ylabel(\"Tempo\")\n",
    "plt.show()"
   ]
  },
  {
   "cell_type": "code",
   "execution_count": null,
   "metadata": {},
   "outputs": [],
   "source": [
    "# End of Kelsey's Code"
   ]
  },
  {
   "cell_type": "code",
   "execution_count": null,
   "metadata": {},
   "outputs": [],
   "source": [
    "# Will's Code"
   ]
  },
  {
   "cell_type": "code",
   "execution_count": null,
   "metadata": {},
   "outputs": [],
   "source": []
  },
  {
   "cell_type": "code",
   "execution_count": null,
   "metadata": {},
   "outputs": [],
   "source": []
  },
  {
   "cell_type": "code",
   "execution_count": null,
   "metadata": {},
   "outputs": [],
   "source": [
    "# End of Will's Code"
   ]
  },
  {
   "cell_type": "code",
   "execution_count": null,
   "metadata": {},
   "outputs": [],
   "source": [
    "# Aar"
   ]
  },
  {
   "cell_type": "code",
   "execution_count": null,
   "metadata": {},
   "outputs": [],
   "source": []
  },
  {
   "cell_type": "code",
   "execution_count": null,
   "metadata": {},
   "outputs": [],
   "source": []
   }
   {
   "cell_type": "markdown",
   "metadata": {},
   "source": [
    "## Conclusion\n",
    "\n",
    "Happiness in a song did not have a strong correlation with the U.S. Employment Rate. However, we did discover that energy does have a correlation. When there is a high unemployment rate in the U.S., the top billboard songs are more likely to have higher energy than when there is a low unemployment rate.\n",
    "\n",
    "This is not great news for Taylor Swift's new album \"folklore\" that came out last week."
   ]
  }
 ],
 "metadata": {
  "kernelspec": {
   "display_name": "Python 3",
   "language": "python",
   "name": "python3"
  },
  "language_info": {
   "codemirror_mode": {
    "name": "ipython",
    "version": 3
   },
   "file_extension": ".py",
   "mimetype": "text/x-python",
   "name": "python",
   "nbconvert_exporter": "python",
   "pygments_lexer": "ipython3",
   "version": "3.6.10"
  }
 },
 "nbformat": 4,
 "nbformat_minor": 4
}
