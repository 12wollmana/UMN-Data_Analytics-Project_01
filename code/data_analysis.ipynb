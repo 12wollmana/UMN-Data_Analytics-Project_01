{
 "cells": [
  {
   "cell_type": "code",
   "execution_count": 1,
   "metadata": {},
   "outputs": [],
   "source": [
    "%matplotlib inline"
   ]
  },
  {
   "cell_type": "code",
   "execution_count": null,
   "metadata": {},
   "outputs": [],
   "source": [
    "# Dependencies\n",
    "import pandas as pd\n",
    "import matplotlib.pyplot as plt\n",
    "import seaborn as sns\n",
    "import statistics\n"
    "import numpy as np\n",
    "from scipy.stats import linregress\n",
    "import scipy.stats as st"
   ]
  },
  {
   "cell_type": "code",
   "execution_count": 2,
   "metadata": {},
   "outputs": [],
   "source": [
    "# Constants\n"
   ]
  },
  {
   "cell_type": "code",
   "execution_count": 3,
   "metadata": {},
   "outputs": [],
   "source": [
    "# Import Music and Unemployment CSV\n",
    "music_unemployment_path = \"../data/music_and_unemployment.csv\"\n",
    "music_unemployment = pd.read_csv(music_unemployment_path)\n",
    "music_unemployment.head()"
   ]
  },
  {
   "cell_type": "code",
   "execution_count": null,
   "metadata": {},
   "outputs": [],
   "source": [
    "# Aaron's Code"
   ]
  },
  {
   "cell_type": "code",
   "execution_count": 4,
   "metadata": {},
   "outputs": [],
   "source": [
    "# End of Aaron's Code"
   ]
  },
  {
   "cell_type": "code",
   "execution_count": 5,
   "metadata": {},
   "outputs": [],
   "source": [
    "# Albin's Code"
   ]
  },
  {
   "cell_type": "code",
   "execution_count": 6,
   "metadata": {},
   "outputs": [],
   "source": [
    "# End of Albin's Code"
   ]
  },
  {
   "cell_type": "code",
   "execution_count": 7,
   "metadata": {},
   "outputs": [],
   "source": [
    "# Kelsey's code"
   ]
  },
  {
   "cell_type": "code",
   "execution_count": null,
   "metadata": {},
   "outputs": [],
   "source": [
    "# Group by the song's date\n",
    "music_unemployment_gb = music_unemployment.groupby([\"Year\", \"Month\", \"Day\"])\n",
    "\n",
    "# Find the average of unemployment rate and weighed valence for each date\n",
    "rate_v_valence = music_unemployment_gb.mean()[[\"Unemployment Rate\", \"valence\"]]\n",
    "\n",
    "# Create a Scatter Graph\n",
    "rate_v_valence.plot(kind=\"scatter\", x = \"Unemployment Rate\", y = \"valence\")\n",
    "\n",
    "# Calculate the correlation coefficient and linear regression model \n",
    "x_values = rate_v_valence[\"Unemployment Rate\"]\n",
    "y_values = rate_v_valence[\"valence\"]\n",
    "\n",
    "(slope, intercept, rvalue, pvalue, stderr) = linregress(x_values, y_values)\n",
    "regress_values = x_values * slope + intercept\n",
    "line_eq = \"y = \" + str(round(slope,2)) + \"x + \" + str(round(intercept,2))\n",
    "\n",
    "plt.plot(x_values,regress_values,\"r-\")\n",
    "plt.annotate(line_eq,(6,.45),fontsize=15,color=\"red\")\n",
    "\n",
    "plt.title(\"Unemployment Rate vs. Valence (Happiness)\")\n",
    "plt.xlabel(\"Unemployment Rate\")\n",
    "plt.ylabel(\"Valence (Happiness)\")\n",
    "plt.show()"
   ]
  },
  {
   "cell_type": "markdown",
   "metadata": {},
   "source": [
    "## OR Does weighed valence add to or change the analysis"
   ]
  },
  {
   "cell_type": "code",
   "execution_count": null,
   "metadata": {},
   "outputs": [],
   "source": [
    "# Create a new data point \"Weighted Valence\"\n",
    "music_unemployment[\"weighed valence\"] = music_unemployment[\"valence\"] * (101 - music_unemployment[\"Placement\"])\n",
    "music_unemployment.head()"
   ]
  },
  {
   "cell_type": "code",
   "execution_count": null,
   "metadata": {},
   "outputs": [],
   "source": [
    "# Group by the song's date\n",
    "music_unemployment_gb = music_unemployment.groupby([\"Year\", \"Month\", \"Day\"])\n",
    "\n",
    "# Find the average of unemployment rate and weighed valence for each date\n",
    "rate_v_valence = music_unemployment_gb.mean()[[\"Unemployment Rate\", \"weighed valence\"]]\n",
    "\n",
    "# Create a Scatter Graph\n",
    "rate_v_valence.plot(kind=\"scatter\", x = \"Unemployment Rate\", y = \"weighed valence\")\n",
    "\n",
    "# Calculate the correlation coefficient and linear regression model \n",
    "x_values = rate_v_valence[\"Unemployment Rate\"]\n",
    "y_values = rate_v_valence[\"weighed valence\"]\n",
    "\n",
    "(slope, intercept, rvalue, pvalue, stderr) = linregress(x_values, y_values)\n",
    "regress_values = x_values * slope + intercept\n",
    "line_eq = \"y = \" + str(round(slope,2)) + \"x + \" + str(round(intercept,2))\n",
    "\n",
    "plt.plot(x_values,regress_values,\"r-\")\n",
    "plt.annotate(line_eq,(5,22),fontsize=15,color=\"red\")\n",
    "\n",
    "plt.title(\"Unemployment Rate vs. Valence (Happiness)\")\n",
    "plt.xlabel(\"Unemployment Rate\")\n",
    "plt.ylabel(\"Weighed Valence (Happiness)\")\n",
    "plt.show()"
   ]
  },
  {
   "cell_type": "code",
   "execution_count": 8,
   "metadata": {},
   "outputs": [],
   "source": [
    "# End of Kelsey's Code"
   ]
  },
  {
   "cell_type": "code",
   "execution_count": 9,
   "metadata": {},
   "outputs": [],
   "source": [
    "# Will's Code"
   ]
  },
  {
   "cell_type": "code",
   "execution_count": 10,
   "metadata": {},
   "outputs": [
    {
     "data": {
      "text/html": [
       "<div>\n",
       "<style scoped>\n",
       "    .dataframe tbody tr th:only-of-type {\n",
       "        vertical-align: middle;\n",
       "    }\n",
       "\n",
       "    .dataframe tbody tr th {\n",
       "        vertical-align: top;\n",
       "    }\n",
       "\n",
       "    .dataframe thead th {\n",
       "        text-align: right;\n",
       "    }\n",
       "</style>\n",
       "<table border=\"1\" class=\"dataframe\">\n",
       "  <thead>\n",
       "    <tr style=\"text-align: right;\">\n",
       "      <th></th>\n",
       "      <th>Track</th>\n",
       "      <th>Artist</th>\n",
       "      <th>Placement</th>\n",
       "      <th>Year</th>\n",
       "      <th>Month</th>\n",
       "      <th>Day</th>\n",
       "      <th>danceability</th>\n",
       "      <th>energy</th>\n",
       "      <th>key</th>\n",
       "      <th>loudness</th>\n",
       "      <th>speechiness</th>\n",
       "      <th>acousticness</th>\n",
       "      <th>liveness</th>\n",
       "      <th>valence</th>\n",
       "      <th>tempo</th>\n",
       "      <th>Unemployment Rate</th>\n",
       "    </tr>\n",
       "  </thead>\n",
       "  <tbody>\n",
       "    <tr>\n",
       "      <th>0</th>\n",
       "      <td>El Paso</td>\n",
       "      <td>Marty Robbins</td>\n",
       "      <td>1</td>\n",
       "      <td>1960</td>\n",
       "      <td>1</td>\n",
       "      <td>4</td>\n",
       "      <td>0.654</td>\n",
       "      <td>0.452</td>\n",
       "      <td>2.0</td>\n",
       "      <td>-9.709</td>\n",
       "      <td>0.0300</td>\n",
       "      <td>0.835</td>\n",
       "      <td>0.160</td>\n",
       "      <td>0.691</td>\n",
       "      <td>106.662</td>\n",
       "      <td>5.2</td>\n",
       "    </tr>\n",
       "    <tr>\n",
       "      <th>1</th>\n",
       "      <td>Why</td>\n",
       "      <td>Frankie Avalon</td>\n",
       "      <td>2</td>\n",
       "      <td>1960</td>\n",
       "      <td>1</td>\n",
       "      <td>4</td>\n",
       "      <td>0.510</td>\n",
       "      <td>0.349</td>\n",
       "      <td>5.0</td>\n",
       "      <td>-8.677</td>\n",
       "      <td>0.0264</td>\n",
       "      <td>0.762</td>\n",
       "      <td>0.130</td>\n",
       "      <td>0.586</td>\n",
       "      <td>94.267</td>\n",
       "      <td>5.2</td>\n",
       "    </tr>\n",
       "    <tr>\n",
       "      <th>2</th>\n",
       "      <td>The Big Hurt</td>\n",
       "      <td>Miss Toni Fisher</td>\n",
       "      <td>3</td>\n",
       "      <td>1960</td>\n",
       "      <td>1</td>\n",
       "      <td>4</td>\n",
       "      <td>0.624</td>\n",
       "      <td>0.557</td>\n",
       "      <td>0.0</td>\n",
       "      <td>-8.309</td>\n",
       "      <td>0.0299</td>\n",
       "      <td>0.783</td>\n",
       "      <td>0.173</td>\n",
       "      <td>0.676</td>\n",
       "      <td>123.919</td>\n",
       "      <td>5.2</td>\n",
       "    </tr>\n",
       "    <tr>\n",
       "      <th>3</th>\n",
       "      <td>Running Bear</td>\n",
       "      <td>Johnny Preston</td>\n",
       "      <td>4</td>\n",
       "      <td>1960</td>\n",
       "      <td>1</td>\n",
       "      <td>4</td>\n",
       "      <td>0.772</td>\n",
       "      <td>0.297</td>\n",
       "      <td>5.0</td>\n",
       "      <td>-14.679</td>\n",
       "      <td>0.0530</td>\n",
       "      <td>0.854</td>\n",
       "      <td>0.125</td>\n",
       "      <td>0.822</td>\n",
       "      <td>119.987</td>\n",
       "      <td>5.2</td>\n",
       "    </tr>\n",
       "    <tr>\n",
       "      <th>4</th>\n",
       "      <td>Heartaches By The Number</td>\n",
       "      <td>Guy Mitchell</td>\n",
       "      <td>6</td>\n",
       "      <td>1960</td>\n",
       "      <td>1</td>\n",
       "      <td>4</td>\n",
       "      <td>0.584</td>\n",
       "      <td>0.589</td>\n",
       "      <td>5.0</td>\n",
       "      <td>-11.203</td>\n",
       "      <td>0.0718</td>\n",
       "      <td>0.463</td>\n",
       "      <td>0.069</td>\n",
       "      <td>0.842</td>\n",
       "      <td>172.484</td>\n",
       "      <td>5.2</td>\n",
       "    </tr>\n",
       "  </tbody>\n",
       "</table>\n",
       "</div>"
      ],
      "text/plain": [
       "                      Track            Artist  Placement  Year  Month  Day  \\\n",
       "0                   El Paso     Marty Robbins          1  1960      1    4   \n",
       "1                       Why    Frankie Avalon          2  1960      1    4   \n",
       "2              The Big Hurt  Miss Toni Fisher          3  1960      1    4   \n",
       "3              Running Bear    Johnny Preston          4  1960      1    4   \n",
       "4  Heartaches By The Number      Guy Mitchell          6  1960      1    4   \n",
       "\n",
       "   danceability  energy  key  loudness  speechiness  acousticness  liveness  \\\n",
       "0         0.654   0.452  2.0    -9.709       0.0300         0.835     0.160   \n",
       "1         0.510   0.349  5.0    -8.677       0.0264         0.762     0.130   \n",
       "2         0.624   0.557  0.0    -8.309       0.0299         0.783     0.173   \n",
       "3         0.772   0.297  5.0   -14.679       0.0530         0.854     0.125   \n",
       "4         0.584   0.589  5.0   -11.203       0.0718         0.463     0.069   \n",
       "\n",
       "   valence    tempo  Unemployment Rate  \n",
       "0    0.691  106.662                5.2  \n",
       "1    0.586   94.267                5.2  \n",
       "2    0.676  123.919                5.2  \n",
       "3    0.822  119.987                5.2  \n",
       "4    0.842  172.484                5.2  "
      ]
     },
     "execution_count": 10,
     "metadata": {},
     "output_type": "execute_result"
    }
   ],
   "source": [
    "data = pd.read_csv('../data/music_and_unemployment.csv')\n",
    "data.drop('Unnamed: 0',axis=1,inplace=True)\n",
    "data.head()"
   ]
  },
  {
   "cell_type": "code",
   "execution_count": 11,
   "metadata": {},
   "outputs": [
    {
     "data": {
      "text/html": [
       "<div>\n",
       "<style scoped>\n",
       "    .dataframe tbody tr th:only-of-type {\n",
       "        vertical-align: middle;\n",
       "    }\n",
       "\n",
       "    .dataframe tbody tr th {\n",
       "        vertical-align: top;\n",
       "    }\n",
       "\n",
       "    .dataframe thead th {\n",
       "        text-align: right;\n",
       "    }\n",
       "</style>\n",
       "<table border=\"1\" class=\"dataframe\">\n",
       "  <thead>\n",
       "    <tr style=\"text-align: right;\">\n",
       "      <th></th>\n",
       "      <th>Year</th>\n",
       "      <th>Month</th>\n",
       "      <th>Unemployment Rate</th>\n",
       "    </tr>\n",
       "  </thead>\n",
       "  <tbody>\n",
       "    <tr>\n",
       "      <th>0</th>\n",
       "      <td>1960</td>\n",
       "      <td>1</td>\n",
       "      <td>5.2</td>\n",
       "    </tr>\n",
       "    <tr>\n",
       "      <th>1</th>\n",
       "      <td>1960</td>\n",
       "      <td>2</td>\n",
       "      <td>4.8</td>\n",
       "    </tr>\n",
       "    <tr>\n",
       "      <th>2</th>\n",
       "      <td>1960</td>\n",
       "      <td>3</td>\n",
       "      <td>5.4</td>\n",
       "    </tr>\n",
       "    <tr>\n",
       "      <th>3</th>\n",
       "      <td>1960</td>\n",
       "      <td>4</td>\n",
       "      <td>5.2</td>\n",
       "    </tr>\n",
       "    <tr>\n",
       "      <th>4</th>\n",
       "      <td>1960</td>\n",
       "      <td>5</td>\n",
       "      <td>5.1</td>\n",
       "    </tr>\n",
       "  </tbody>\n",
       "</table>\n",
       "</div>"
      ],
      "text/plain": [
       "   Year  Month  Unemployment Rate\n",
       "0  1960      1                5.2\n",
       "1  1960      2                4.8\n",
       "2  1960      3                5.4\n",
       "3  1960      4                5.2\n",
       "4  1960      5                5.1"
      ]
     },
     "execution_count": 11,
     "metadata": {},
     "output_type": "execute_result"
    }
   ],
   "source": [
    "unemployement_time=data[['Year','Month','Unemployment Rate']].drop_duplicates().reset_index(drop=True)\n",
    "unemployement_time.head()"
   ]
  },
  {
   "cell_type": "code",
   "execution_count": 12,
   "metadata": {},
   "outputs": [
    {
     "data": {
      "text/html": [
       "<div>\n",
       "<style scoped>\n",
       "    .dataframe tbody tr th:only-of-type {\n",
       "        vertical-align: middle;\n",
       "    }\n",
       "\n",
       "    .dataframe tbody tr th {\n",
       "        vertical-align: top;\n",
       "    }\n",
       "\n",
       "    .dataframe thead th {\n",
       "        text-align: right;\n",
       "    }\n",
       "</style>\n",
       "<table border=\"1\" class=\"dataframe\">\n",
       "  <thead>\n",
       "    <tr style=\"text-align: right;\">\n",
       "      <th>Month</th>\n",
       "      <th>1</th>\n",
       "      <th>2</th>\n",
       "      <th>3</th>\n",
       "      <th>4</th>\n",
       "      <th>5</th>\n",
       "      <th>6</th>\n",
       "      <th>7</th>\n",
       "      <th>8</th>\n",
       "      <th>9</th>\n",
       "      <th>10</th>\n",
       "      <th>11</th>\n",
       "      <th>12</th>\n",
       "    </tr>\n",
       "    <tr>\n",
       "      <th>Year</th>\n",
       "      <th></th>\n",
       "      <th></th>\n",
       "      <th></th>\n",
       "      <th></th>\n",
       "      <th></th>\n",
       "      <th></th>\n",
       "      <th></th>\n",
       "      <th></th>\n",
       "      <th></th>\n",
       "      <th></th>\n",
       "      <th></th>\n",
       "      <th></th>\n",
       "    </tr>\n",
       "  </thead>\n",
       "  <tbody>\n",
       "    <tr>\n",
       "      <th>1960</th>\n",
       "      <td>5.2</td>\n",
       "      <td>4.8</td>\n",
       "      <td>5.4</td>\n",
       "      <td>5.2</td>\n",
       "      <td>5.1</td>\n",
       "      <td>5.4</td>\n",
       "      <td>5.5</td>\n",
       "      <td>5.6</td>\n",
       "      <td>5.5</td>\n",
       "      <td>6.1</td>\n",
       "      <td>6.1</td>\n",
       "      <td>6.6</td>\n",
       "    </tr>\n",
       "    <tr>\n",
       "      <th>1961</th>\n",
       "      <td>6.6</td>\n",
       "      <td>6.9</td>\n",
       "      <td>6.9</td>\n",
       "      <td>7.0</td>\n",
       "      <td>7.1</td>\n",
       "      <td>6.9</td>\n",
       "      <td>7.0</td>\n",
       "      <td>6.6</td>\n",
       "      <td>6.7</td>\n",
       "      <td>6.5</td>\n",
       "      <td>6.1</td>\n",
       "      <td>6.0</td>\n",
       "    </tr>\n",
       "    <tr>\n",
       "      <th>1962</th>\n",
       "      <td>5.8</td>\n",
       "      <td>5.5</td>\n",
       "      <td>5.6</td>\n",
       "      <td>5.6</td>\n",
       "      <td>5.5</td>\n",
       "      <td>5.5</td>\n",
       "      <td>5.4</td>\n",
       "      <td>5.7</td>\n",
       "      <td>5.6</td>\n",
       "      <td>5.4</td>\n",
       "      <td>5.7</td>\n",
       "      <td>5.5</td>\n",
       "    </tr>\n",
       "    <tr>\n",
       "      <th>1963</th>\n",
       "      <td>5.7</td>\n",
       "      <td>5.9</td>\n",
       "      <td>5.7</td>\n",
       "      <td>5.7</td>\n",
       "      <td>5.9</td>\n",
       "      <td>5.6</td>\n",
       "      <td>5.6</td>\n",
       "      <td>5.4</td>\n",
       "      <td>5.5</td>\n",
       "      <td>5.5</td>\n",
       "      <td>5.7</td>\n",
       "      <td>5.5</td>\n",
       "    </tr>\n",
       "    <tr>\n",
       "      <th>1964</th>\n",
       "      <td>5.6</td>\n",
       "      <td>5.4</td>\n",
       "      <td>5.4</td>\n",
       "      <td>5.3</td>\n",
       "      <td>5.1</td>\n",
       "      <td>5.2</td>\n",
       "      <td>4.9</td>\n",
       "      <td>5.0</td>\n",
       "      <td>5.1</td>\n",
       "      <td>5.1</td>\n",
       "      <td>4.8</td>\n",
       "      <td>5.0</td>\n",
       "    </tr>\n",
       "  </tbody>\n",
       "</table>\n",
       "</div>"
      ],
      "text/plain": [
       "Month   1    2    3    4    5    6    7    8    9    10   11   12\n",
       "Year                                                             \n",
       "1960   5.2  4.8  5.4  5.2  5.1  5.4  5.5  5.6  5.5  6.1  6.1  6.6\n",
       "1961   6.6  6.9  6.9  7.0  7.1  6.9  7.0  6.6  6.7  6.5  6.1  6.0\n",
       "1962   5.8  5.5  5.6  5.6  5.5  5.5  5.4  5.7  5.6  5.4  5.7  5.5\n",
       "1963   5.7  5.9  5.7  5.7  5.9  5.6  5.6  5.4  5.5  5.5  5.7  5.5\n",
       "1964   5.6  5.4  5.4  5.3  5.1  5.2  4.9  5.0  5.1  5.1  4.8  5.0"
      ]
     },
     "execution_count": 12,
     "metadata": {},
     "output_type": "execute_result"
    }
   ],
   "source": [
    "unemployement_time_pivot=unemployement_time.pivot('Year','Month','Unemployment Rate')\n",
    "unemployement_time_pivot.head()"
   ]
  },
  {
   "cell_type": "code",
   "execution_count": 13,
   "metadata": {},
   "outputs": [
    {
     "data": {
      "text/html": [
       "<div>\n",
       "<style scoped>\n",
       "    .dataframe tbody tr th:only-of-type {\n",
       "        vertical-align: middle;\n",
       "    }\n",
       "\n",
       "    .dataframe tbody tr th {\n",
       "        vertical-align: top;\n",
       "    }\n",
       "\n",
       "    .dataframe thead th {\n",
       "        text-align: right;\n",
       "    }\n",
       "</style>\n",
       "<table border=\"1\" class=\"dataframe\">\n",
       "  <thead>\n",
       "    <tr style=\"text-align: right;\">\n",
       "      <th>Month</th>\n",
       "      <th>1</th>\n",
       "      <th>2</th>\n",
       "      <th>3</th>\n",
       "      <th>4</th>\n",
       "      <th>5</th>\n",
       "      <th>6</th>\n",
       "      <th>7</th>\n",
       "      <th>8</th>\n",
       "      <th>9</th>\n",
       "      <th>10</th>\n",
       "      <th>11</th>\n",
       "      <th>12</th>\n",
       "      <th>STD</th>\n",
       "    </tr>\n",
       "    <tr>\n",
       "      <th>Year</th>\n",
       "      <th></th>\n",
       "      <th></th>\n",
       "      <th></th>\n",
       "      <th></th>\n",
       "      <th></th>\n",
       "      <th></th>\n",
       "      <th></th>\n",
       "      <th></th>\n",
       "      <th></th>\n",
       "      <th></th>\n",
       "      <th></th>\n",
       "      <th></th>\n",
       "      <th></th>\n",
       "    </tr>\n",
       "  </thead>\n",
       "  <tbody>\n",
       "    <tr>\n",
       "      <th>1960</th>\n",
       "      <td>5.2</td>\n",
       "      <td>4.8</td>\n",
       "      <td>5.4</td>\n",
       "      <td>5.2</td>\n",
       "      <td>5.1</td>\n",
       "      <td>5.4</td>\n",
       "      <td>5.5</td>\n",
       "      <td>5.6</td>\n",
       "      <td>5.5</td>\n",
       "      <td>6.1</td>\n",
       "      <td>6.1</td>\n",
       "      <td>6.6</td>\n",
       "      <td>0.501739</td>\n",
       "    </tr>\n",
       "    <tr>\n",
       "      <th>1961</th>\n",
       "      <td>6.6</td>\n",
       "      <td>6.9</td>\n",
       "      <td>6.9</td>\n",
       "      <td>7.0</td>\n",
       "      <td>7.1</td>\n",
       "      <td>6.9</td>\n",
       "      <td>7.0</td>\n",
       "      <td>6.6</td>\n",
       "      <td>6.7</td>\n",
       "      <td>6.5</td>\n",
       "      <td>6.1</td>\n",
       "      <td>6.0</td>\n",
       "      <td>0.352803</td>\n",
       "    </tr>\n",
       "    <tr>\n",
       "      <th>1962</th>\n",
       "      <td>5.8</td>\n",
       "      <td>5.5</td>\n",
       "      <td>5.6</td>\n",
       "      <td>5.6</td>\n",
       "      <td>5.5</td>\n",
       "      <td>5.5</td>\n",
       "      <td>5.4</td>\n",
       "      <td>5.7</td>\n",
       "      <td>5.6</td>\n",
       "      <td>5.4</td>\n",
       "      <td>5.7</td>\n",
       "      <td>5.5</td>\n",
       "      <td>0.123091</td>\n",
       "    </tr>\n",
       "    <tr>\n",
       "      <th>1963</th>\n",
       "      <td>5.7</td>\n",
       "      <td>5.9</td>\n",
       "      <td>5.7</td>\n",
       "      <td>5.7</td>\n",
       "      <td>5.9</td>\n",
       "      <td>5.6</td>\n",
       "      <td>5.6</td>\n",
       "      <td>5.4</td>\n",
       "      <td>5.5</td>\n",
       "      <td>5.5</td>\n",
       "      <td>5.7</td>\n",
       "      <td>5.5</td>\n",
       "      <td>0.156428</td>\n",
       "    </tr>\n",
       "    <tr>\n",
       "      <th>1964</th>\n",
       "      <td>5.6</td>\n",
       "      <td>5.4</td>\n",
       "      <td>5.4</td>\n",
       "      <td>5.3</td>\n",
       "      <td>5.1</td>\n",
       "      <td>5.2</td>\n",
       "      <td>4.9</td>\n",
       "      <td>5.0</td>\n",
       "      <td>5.1</td>\n",
       "      <td>5.1</td>\n",
       "      <td>4.8</td>\n",
       "      <td>5.0</td>\n",
       "      <td>0.231432</td>\n",
       "    </tr>\n",
       "  </tbody>\n",
       "</table>\n",
       "</div>"
      ],
      "text/plain": [
       "Month    1    2    3    4    5    6    7    8    9   10   11   12       STD\n",
       "Year                                                                       \n",
       "1960   5.2  4.8  5.4  5.2  5.1  5.4  5.5  5.6  5.5  6.1  6.1  6.6  0.501739\n",
       "1961   6.6  6.9  6.9  7.0  7.1  6.9  7.0  6.6  6.7  6.5  6.1  6.0  0.352803\n",
       "1962   5.8  5.5  5.6  5.6  5.5  5.5  5.4  5.7  5.6  5.4  5.7  5.5  0.123091\n",
       "1963   5.7  5.9  5.7  5.7  5.9  5.6  5.6  5.4  5.5  5.5  5.7  5.5  0.156428\n",
       "1964   5.6  5.4  5.4  5.3  5.1  5.2  4.9  5.0  5.1  5.1  4.8  5.0  0.231432"
      ]
     },
     "execution_count": 13,
     "metadata": {},
     "output_type": "execute_result"
    }
   ],
   "source": [
    "temp=unemployement_time_pivot.copy()\n",
    "temp['STD']=[statistics.stdev(temp.loc[index,:])for index,row in temp.iterrows()]\n",
    "temp.head()"
   ]
  },
  {
   "cell_type": "code",
   "execution_count": 14,
   "metadata": {},
   "outputs": [
    {
     "data": {
      "text/plain": [
       "<matplotlib.axes._subplots.AxesSubplot at 0x7f8062a04710>"
      ]
     },
     "execution_count": 14,
     "metadata": {},
     "output_type": "execute_result"
    },
    {
     "data": {
      "image/png": "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\n",
      "text/plain": [
       "<Figure size 1080x1440 with 2 Axes>"
      ]
     },
     "metadata": {
      "needs_background": "light"
     },
     "output_type": "display_data"
    }
   ],
   "source": [
    "plt.figure(figsize=(15,20))\n",
    "sns.heatmap(unemployement_time_pivot,cmap=(\"Blues\"))"
   ]
  },
  {
   "cell_type": "code",
   "execution_count": 15,
   "metadata": {},
   "outputs": [],
   "source": [
    "vmax=unemployement_time_pivot.max().max()\n",
    "vmin=unemployement_time_pivot.min().min()"
   ]
  },
  {
   "cell_type": "code",
   "execution_count": 16,
   "metadata": {},
   "outputs": [
    {
     "data": {
      "text/plain": [
       "<matplotlib.axes._subplots.AxesSubplot at 0x7f805f33d1d0>"
      ]
     },
     "execution_count": 16,
     "metadata": {},
     "output_type": "execute_result"
    },
    {
     "data": {
      "image/png": "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\n",
      "text/plain": [
       "<Figure size 720x1440 with 12 Axes>"
      ]
     },
     "metadata": {
      "needs_background": "light"
     },
     "output_type": "display_data"
    }
   ],
   "source": [
    "fig,axes=plt.subplots(6,1,figsize=(10,20),sharex=True)\n",
    "sns.heatmap(unemployement_time_pivot[:10],cmap=(\"Blues\"),ax=axes[0],vmax=vmax,vmin=vmin)\n",
    "sns.heatmap(unemployement_time_pivot[10:20],cmap=(\"Blues\"),ax=axes[1],vmax=vmax,vmin=vmin)\n",
    "sns.heatmap(unemployement_time_pivot[20:30],cmap=(\"Blues\"),ax=axes[2],vmax=vmax,vmin=vmin)\n",
    "sns.heatmap(unemployement_time_pivot[30:40],cmap=(\"Blues\"),ax=axes[3],vmax=vmax,vmin=vmin)\n",
    "sns.heatmap(unemployement_time_pivot[40:50],cmap=(\"Blues\"),ax=axes[4],vmax=vmax,vmin=vmin)\n",
    "sns.heatmap(unemployement_time_pivot[50:],cmap=(\"Blues\"),ax=axes[5],vmax=vmax,vmin=vmin)"
   ]
  },
  {
   "cell_type": "code",
   "execution_count": 17,
   "metadata": {},
   "outputs": [],
   "source": [
    "# End of Will's Code"
   ]
  }
 ],
 "metadata": {
  "kernelspec": {
   "display_name": "Python 3",
   "language": "python",
   "name": "python3"
  },
  "language_info": {
   "codemirror_mode": {
    "name": "ipython",
    "version": 3
   },
   "file_extension": ".py",
   "mimetype": "text/x-python",
   "name": "python",
   "nbconvert_exporter": "python",
   "pygments_lexer": "ipython3",
   "version": "3.7.4"
  }
 },
 "nbformat": 4,
 "nbformat_minor": 4
}
