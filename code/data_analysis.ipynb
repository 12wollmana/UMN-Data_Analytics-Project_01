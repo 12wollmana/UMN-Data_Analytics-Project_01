{
 "cells": [
  {
   "cell_type": "markdown",
   "metadata": {},
   "source": [
    "## Data Analysis\n",
    "\n",
    "Aaron Wollman, Albin Joseph, Kelsey Richardson Blackwell, Will Huang\n",
    "\n",
    "In this notebook, we analyze if the measure of “musical positiveness”in the Top 100 Hits and the US’s unemployment data have a strong correlation. Is the correlation strong enough to predict next month? Are there other attributes besides happiness that have a stronger correlation - danceability, energy, tempo, speech?"
   ]
  },
  {
   "cell_type": "code",
   "execution_count": null,
   "metadata": {},
   "outputs": [],
   "source": [
    "%matplotlib inline"
   ]
  },
  {
   "cell_type": "code",
   "execution_count": null,
   "metadata": {},
   "outputs": [],
   "source": [
    "# Dependencies\n",
    "import pandas as pd\n",
    "import matplotlib.pyplot as plt\n",
    "import seaborn as sns\n",
    "import statistics\n",
    "import numpy as np\n",
    "from scipy.stats import linregress\n",
    "import scipy.stats as st"
   ]
  },
  {
   "cell_type": "code",
   "execution_count": null,
   "metadata": {},
   "outputs": [],
   "source": [
    "# Import the csv\n",
    "music_unemployment = pd.read_csv('../data/music_and_unemployment.csv')\n",
    "music_unemployment.drop('Unnamed: 0',axis=1,inplace=True)\n",
    "music_unemployment.head()"
   ]
  },
  {
   "cell_type": "markdown",
   "metadata": {},
   "source": [
    "## Unemployment Rate\n",
    "\n",
    "Before we jumped into running recressions and statistical tests, we wanted to understand the in the unemployment rate during the timeframe. We wanted to visually understand the changes, so we created a heat map."
   ]
  },
  {
   "cell_type": "code",
   "execution_count": null,
   "metadata": {},
   "outputs": [],
   "source": [
    "#Unemployment rate monthly data from 1960 to 2019 \n",
    "unemployment_time=music_unemployment[['Year','Month','Unemployment Rate']].drop_duplicates().reset_index(drop=True)\n",
    "unemployment_time.head()"
   ]
  },
  {
   "cell_type": "code",
   "execution_count": null,
   "metadata": {},
   "outputs": [],
   "source": [
    "#unemployment rate data by Year and Month\n",
    "unemployment_time_pivot=unemployment_time.pivot('Year','Month','Unemployment Rate')\n",
    "unemployment_time_pivot.head()"
   ]
  },
  {
   "cell_type": "code",
   "execution_count": null,
   "metadata": {},
   "outputs": [],
   "source": [
    "#the maximum of unemplyment rate\n",
    "vmax=unemployment_time_pivot.max().max()\n",
    "\n",
    "#the minimum of unemployment rate\n",
    "vmin=unemployment_time_pivot.min().min()"
   ]
  },
  {
   "cell_type": "code",
   "execution_count": null,
   "metadata": {},
   "outputs": [],
   "source": [
    "#unemployment rate heat map by decades\n",
    "fig,axes=plt.subplots(6,1,figsize=(15,20))\n",
    "sns.heatmap(unemployment_time_pivot[:10],cmap=(\"Blues\"),ax=axes[0],vmax=vmax,vmin=vmin)\n",
    "sns.heatmap(unemployment_time_pivot[10:20],cmap=(\"Blues\"),ax=axes[1],vmax=vmax,vmin=vmin)\n",
    "sns.heatmap(unemployment_time_pivot[20:30],cmap=(\"Blues\"),ax=axes[2],vmax=vmax,vmin=vmin)\n",
    "sns.heatmap(unemployment_time_pivot[30:40],cmap=(\"Blues\"),ax=axes[3],vmax=vmax,vmin=vmin)\n",
    "sns.heatmap(unemployment_time_pivot[40:50],cmap=(\"Blues\"),ax=axes[4],vmax=vmax,vmin=vmin)\n",
    "sns.heatmap(unemployment_time_pivot[50:],cmap=(\"Blues\"),ax=axes[5],vmax=vmax,vmin=vmin)"
   ]
  },
  {
   "cell_type": "markdown",
   "metadata": {},
   "source": [
    "## Valence \"Happiness\"\n",
    "\n",
    "We also wanted to run a similar heat map for the valence score, so help us visually understand the changes in such a large timeframe.\n",
    "\n",
    "Now it is time to do the work!"
   ]
  },
  {
   "cell_type": "markdown",
   "metadata": {},
   "source": [
    "## Unemployment Rate vs. Valence \"Happiness\"\n",
    "\n",
    "We ran a regression for valence versus unemployment rate. "
   ]
  },
  {
   "cell_type": "code",
   "execution_count": null,
   "metadata": {},
   "outputs": [],
   "source": [
    "# Define regression function\n",
    "def linearplt(dataframe, x_values, y_values, ylabel, coordinates):\n",
    "    plt.scatter(x_values, y_values)\n",
    "\n",
    "    (slope, intercept, rvalue, pvalue, stderr) = linregress(x_values, y_values)\n",
    "    regress_values = x_values * slope + intercept\n",
    "    line_eq = \"y = \" + str(round(slope,2)) + \"x + \" + str(round(intercept,2))\n",
    "\n",
    "    plt.plot(x_values,regress_values,\"r-\")\n",
    "    plt.annotate(line_eq,coordinates,fontsize=15,color=\"red\")\n",
    "\n",
    "    plt.xlabel(\"Unemployment Rate\")\n",
    "    plt.ylabel(ylabel)"
   ]
  },
  {
   "cell_type": "markdown",
   "metadata": {},
   "source": [
    "Weighed Valence\n"
   ]
  },
  {
   "cell_type": "code",
   "execution_count": null,
   "metadata": {},
   "outputs": [],
   "source": [
    "# Create a new data point \"Weighted Valence\"\n",
    "music_unemployment[\"weighed valence\"] = music_unemployment[\"valence\"] * (101 - music_unemployment[\"Placement\"])\n",
    "\n",
    "# Group by the song's date\n",
    "music_unemployment_gb = music_unemployment.groupby([\"Year\", \"Month\", \"Day\"])\n",
    "\n",
    "# Find the average of unemployment rate and weighed valence for each date\n",
    "rate_v_valence = music_unemployment_gb.mean()[[\"Unemployment Rate\", \"weighed valence\"]]\n",
    "\n",
    "# Create a Scatter Graph\n",
    "x_values = rate_v_valence[\"Unemployment Rate\"]\n",
    "y_values = rate_v_valence[\"weighed valence\"]\n",
    "linearplt(rate_v_valence, x_values, y_values, \"Unemployment Rate\", (5,22))\n",
    "plt.title(\"Unemployment Rate vs. Valence (Happiness)\")\n",
    "plt.show()"
   ]
  },
  {
   "cell_type": "markdown",
   "metadata": {},
   "source": [
    "We decided to look at valence since 2010 to see if the past decade has been different since music has changed significanlty since 2010."
   ]
  },
  {
   "cell_type": "code",
   "execution_count": null,
   "metadata": {},
   "outputs": [],
   "source": [
    "# Find the data for songs 2010 and after\n",
    "music_unemployment_years = (music_unemployment.loc[(music_unemployment[\"Year\"]) >= 2010])\n",
    "music_unemployment_years\n",
    "\n",
    "# Group by the song's date\n",
    "music_unemployment_years_gb = music_unemployment_years.groupby([\"Year\", \"Month\", \"Day\"])\n",
    "\n",
    "# Find the average of unemployment rate and weighed valence for each date\n",
    "two_rate_v_valence = music_unemployment_years_gb.mean()[[\"Unemployment Rate\", \"weighed valence\"]]\n",
    "\n",
    "# Create a Scatter Graph\n",
    "x_values = two_rate_v_valence[\"Unemployment Rate\"]\n",
    "y_values = two_rate_v_valence[\"weighed valence\"]\n",
    "linearplt(rate_v_tempo, x_values, y_values, \"valence\", (7,22))\n",
    "plt.title(\"Unemployment Rate vs. Valence in Song 2010 and after\")\n",
    "plt.show()"
   ]
  },
  {
   "cell_type": "markdown",
   "metadata": {},
   "source": [
    "Conclusion: We discovered that the unemployment rate does not impact happiness in a Top 100 hit song. As you can see in the regression graph below, there was not a strong correlation. \n",
    "\n",
    "So we decided to run a statistical test next. "
   ]
  },
  {
   "cell_type": "code",
   "execution_count": null,
   "metadata": {},
   "outputs": [],
   "source": [
    "# Will's Code"
   ]
  },
  {
   "cell_type": "code",
   "execution_count": null,
   "metadata": {},
   "outputs": [],
   "source": [
    "unemployment_rate_list=[]\n",
    "for i in range(len(unemployment_time_pivot)):\n",
    "    for j in unemployment_time_pivot.iloc[i,1:]:\n",
    "        unemployment_rate_list.append(j)"
   ]
  },
  {
   "cell_type": "code",
   "execution_count": null,
   "metadata": {},
   "outputs": [],
   "source": [
    "#check if there is outlier in unemployemnt rate\n",
    "plt.boxplot(unemployment_rate_list)"
   ]
  },
  {
   "cell_type": "code",
   "execution_count": null,
   "metadata": {},
   "outputs": [],
   "source": [
    "#categorize song by its unemployment rate at the time\n",
    "# if unemployment rate higher than 7.0, assign into High_Unemployment group\n",
    "# 7.0 is descided by the 3rd quantile of all the unemployment rate data\n",
    "\n",
    "high_unemployment_rate=np.quantile(unemployment_rate_list, .75) ###7.0\n",
    "music_unemployment[\"weighed valence\"] = music_unemployment[\"valence\"] * (101 - music_unemployment[\"Placement\"])\n",
    "music_unemployment['High_Unemployment'] = music_unemployment['Unemployment Rate'].apply(lambda x: 1 if x>=high_unemployment_rate else 0)\n",
    "\n",
    "music_unemployment.head()"
   ]
  },
  {
   "cell_type": "code",
   "execution_count": null,
   "metadata": {},
   "outputs": [],
   "source": [
    "#the calculation of weighted features could be done together \n",
    "#this section should be move above of top of the jupyter nobebook\n",
    "\n",
    "music_unemployment[\"weighed valence\"] = music_unemployment[\"valence\"] * (101 - music_unemployment[\"Placement\"])\n",
    "music_unemployment['weighed danceability']=music_unemployment[\"danceability\"] * (101 - music_unemployment[\"Placement\"])\n",
    "music_unemployment['weighed energy']=music_unemployment[\"energy\"] * (101 - music_unemployment[\"Placement\"])\n",
    "music_unemployment['weighed key']=music_unemployment[\"key\"] * (101 - music_unemployment[\"Placement\"])\n",
    "music_unemployment['weighed loudness']=music_unemployment[\"loudness\"] * (101 - music_unemployment[\"Placement\"])\n",
    "music_unemployment['weighed speechiness']=music_unemployment[\"speechiness\"] * (101 - music_unemployment[\"Placement\"])\n",
    "music_unemployment['weighed acousticness']=music_unemployment[\"acousticness\"] * (101 - music_unemployment[\"Placement\"])\n",
    "music_unemployment['weighed liveness']=music_unemployment[\"liveness\"] * (101 - music_unemployment[\"Placement\"])\n",
    "music_unemployment['weighed tempo']=music_unemployment[\"tempo\"] * (101 - music_unemployment[\"Placement\"])\n",
    "music_unemployment['High_Unemployment']=music_unemployment['Unemployment Rate'].apply(lambda x: 1 if x>=high_unemployment_rate else 0)"
   ]
  },
  {
   "cell_type": "code",
   "execution_count": null,
   "metadata": {},
   "outputs": [],
   "source": [
    "#we could drop the original scroe and replace it by the weighted score\n",
    "music_unemployment.head()"
   ]
  },
  {
   "cell_type": "code",
   "execution_count": null,
   "metadata": {},
   "outputs": [],
   "source": [
    "#assign the weighted feature scores to the mean of the monthly feature score\n",
    "music_unemployment_group=music_unemployment.groupby(['Year','Month','Day'])[\n",
    "    ['High_Unemployment','Unemployment Rate',\n",
    "       'weighed valence', 'weighed danceability', 'weighed energy',\n",
    "       'weighed key', 'weighed loudness', 'weighed speechiness',\n",
    "       'weighed acousticness', 'weighed liveness', 'weighed tempo']].mean()"
   ]
  },
  {
   "cell_type": "code",
   "execution_count": null,
   "metadata": {},
   "outputs": [],
   "source": [
    "feature_list=['weighed valence', 'weighed danceability', 'weighed energy',\n",
    "       'weighed key', 'weighed loudness', 'weighed speechiness',\n",
    "       'weighed acousticness', 'weighed liveness', 'weighed tempo']"
   ]
  },
  {
   "cell_type": "code",
   "execution_count": null,
   "metadata": {
    "scrolled": false
   },
   "outputs": [],
   "source": [
    "#scatter plots for weigthed feature scroes by unemployment rate\n",
    "row=0\n",
    "col=0\n",
    "fig,axes=plt.subplots(3,3,figsize=(15,15))\n",
    "\n",
    "for i in feature_list:\n",
    "    if col>2:\n",
    "        row+=1\n",
    "        col=0\n",
    "        sns.scatterplot(x='Unemployment Rate',y=i,hue='High_Unemployment',data=music_unemployment_group,ax=axes[row][col])\n",
    "        col+=1\n",
    "        \n",
    "    else:\n",
    "        sns.scatterplot(x='Unemployment Rate',y=i,hue='High_Unemployment',data=music_unemployment_group,ax=axes[row][col])\n",
    "        col+=1"
   ]
  },
  {
   "cell_type": "code",
   "execution_count": null,
   "metadata": {},
   "outputs": [],
   "source": [
    "#boxplots for weigthed feature scroes by unemployment rate\n",
    "row=0\n",
    "col=0\n",
    "fig,axes=plt.subplots(3,3,figsize=(15,15))\n",
    "for i in feature_list:\n",
    "    if col>2:\n",
    "        row+=1\n",
    "        col=0\n",
    "        sns.boxplot(x='High_Unemployment',y=i,data=music_unemployment_group[[i,'High_Unemployment']],ax=axes[row][col])\n",
    "        col+=1\n",
    "        \n",
    "    else:\n",
    "        sns.boxplot(x='High_Unemployment',y=i,data=music_unemployment_group[[i,'High_Unemployment']],ax=axes[row][col])\n",
    "        col+=1\n",
    "        "
   ]
  },
  {
   "cell_type": "code",
   "execution_count": null,
   "metadata": {},
   "outputs": [],
   "source": [
    "#anova test for weighted features\n",
    "statistic_list=[]\n",
    "pvalue_list=[]\n",
    "for i in feature_list:\n",
    "    group1=music_unemployment_group[i][music_unemployment_group['High_Unemployment']==1]\n",
    "    group2=music_unemployment_group[i][music_unemployment_group['High_Unemployment']==0]\n",
    "    statistic=st.f_oneway(group1,group2)[0]\n",
    "    pvalue=st.f_oneway(group1,group2)[1]\n",
    "    statistic_list.append(statistic)\n",
    "    pvalue_list.append(pvalue)\n",
    "    print(f' ANOVA Result for {i} vs. High_Unemployment\\n {st.f_oneway(group1,group2)}\\n==================')"
   ]
  },
  {
   "cell_type": "code",
   "execution_count": null,
   "metadata": {},
   "outputs": [],
   "source": [
    "#anova test results df\n",
    "significant_list=[1 if i <=0.05 else 0 for i in pvalue_list]\n",
    "anova=pd.DataFrame({'Feature':feature_list,'Statistic':statistic_list,'Pvalue':pvalue_list,'Significant':significant_list})\n",
    "anova.sort_values('Pvalue')"
   ]
  },
  {
   "cell_type": "code",
   "execution_count": null,
   "metadata": {
    "scrolled": false
   },
   "outputs": [],
   "source": [
    "#boxplots for the weighted fetures which has significant \n",
    "row=0\n",
    "col=0\n",
    "fig,axes=plt.subplots(2,3,figsize=(15,10))\n",
    "for i in anova['Feature'][anova['Significant']==1]:\n",
    "    if col>2:\n",
    "        row+=1\n",
    "        col=0\n",
    "        sns.boxplot(x='High_Unemployment',y=i,data=music_unemployment_group[[i,'High_Unemployment']],ax=axes[row][col])\n",
    "        col+=1\n",
    "        \n",
    "    else:\n",
    "        sns.boxplot(x='High_Unemployment',y=i,data=music_unemployment_group[[i,'High_Unemployment']],ax=axes[row][col])\n",
    "        col+=1\n",
    "        "
   ]
  },
  {
   "cell_type": "code",
   "execution_count": null,
   "metadata": {},
   "outputs": [],
   "source": [
    "# ANOVA Test on Yearly Base"
   ]
  },
  {
   "cell_type": "code",
   "execution_count": null,
   "metadata": {},
   "outputs": [],
   "source": [
    "music_unemployment_group_y=music_unemployment.groupby(['Year'])[\n",
    "    ['Unemployment Rate',\n",
    "       'weighed valence', 'weighed danceability', 'weighed energy',\n",
    "       'weighed key', 'weighed loudness', 'weighed speechiness',\n",
    "       'weighed acousticness', 'weighed liveness', 'weighed tempo']].mean()\n",
    "music_unemployment_group_y['High_Unemployment']=music_unemployment_group_y['Unemployment Rate'].apply(lambda x: 1 if x>=high_unemployment_rate else 0)"
   ]
  },
  {
   "cell_type": "code",
   "execution_count": null,
   "metadata": {},
   "outputs": [],
   "source": [
    "statistic_list=[]\n",
    "pvalue_list=[]\n",
    "for i in feature_list:\n",
    "    group1=music_unemployment_group_y[i][music_unemployment_group_y['High_Unemployment']==1]\n",
    "    group2=music_unemployment_group_y[i][music_unemployment_group_y['High_Unemployment']==0]\n",
    "    statistic=st.f_oneway(group1,group2)[0]\n",
    "    pvalue=st.f_oneway(group1,group2)[1]\n",
    "    statistic_list.append(statistic)\n",
    "    pvalue_list.append(pvalue)\n",
    "    print(f' ANOVA Result for {i} vs. High_Unemployment\\n {st.f_oneway(group1,group2)}\\n==================')"
   ]
  },
  {
   "cell_type": "code",
   "execution_count": null,
   "metadata": {},
   "outputs": [],
   "source": [
    "significant_list=[1 if i <=0.05 else 0 for i in pvalue_list]\n",
    "anova=pd.DataFrame({'Feature':feature_list,'Statistic':statistic_list,'Pvalue':pvalue_list,'Significant':significant_list})\n",
    "anova.sort_values('Pvalue')"
   ]
  },
  {
   "cell_type": "code",
   "execution_count": null,
   "metadata": {
    "scrolled": false
   },
   "outputs": [],
   "source": [
    "#scatter plots for weigthed feature scroes by unemployment rate\n",
    "row=0\n",
    "col=0\n",
    "fig,axes=plt.subplots(3,3,figsize=(15,15))\n",
    "\n",
    "for i in feature_list:\n",
    "    if col>2:\n",
    "        row+=1\n",
    "        col=0\n",
    "        sns.scatterplot(x='Unemployment Rate',y=i,hue='High_Unemployment',data=music_unemployment_group_y,ax=axes[row][col])\n",
    "        col+=1\n",
    "        \n",
    "    else:\n",
    "        sns.scatterplot(x='Unemployment Rate',y=i,hue='High_Unemployment',data=music_unemployment_group_y,ax=axes[row][col])\n",
    "        col+=1"
   ]
  },
  {
   "cell_type": "code",
   "execution_count": null,
   "metadata": {},
   "outputs": [],
   "source": [
    "n=0\n",
    "fig,axes=plt.subplots(2,1,figsize=(10,10))\n",
    "for i in anova['Feature'][anova['Significant']==1]:\n",
    "    sns.boxplot(x='High_Unemployment',y=i,data=music_unemployment_group_y[[i,'High_Unemployment']],ax=axes[n])\n",
    "    n+=1\n",
    "        "
   ]
  },
  {
   "cell_type": "markdown",
   "metadata": {},
   "source": [
    "## Unemployment Rate vs. Tempo\n",
    "\n",
    "From the ANOVA test, we knew that energy and tempo may correlate with the unemployment rate.\n",
    "\n",
    "We ran a regression for the unemployment rate versus tempo and discovered there is a slight negative relationship between tempo in a song and the unemployment rate"
   ]
  },
  {
   "cell_type": "code",
   "execution_count": null,
   "metadata": {},
   "outputs": [],
   "source": [
    "music_unemployment[\"weighed energy\"] = music_unemployment[\"energy\"] * (101 - music_unemployment[\"Placement\"])"
   ]
  },
  {
   "cell_type": "code",
   "execution_count": null,
   "metadata": {},
   "outputs": [],
   "source": [
    "#Create a weighed tempo\n",
    "music_unemployment[\"weighed tempo\"] = music_unemployment[\"tempo\"] * (101 - music_unemployment[\"tempo\"])\n",
    "\n",
    "# Group by the song's date\n",
    "music_unemployment_gb = music_unemployment.groupby([\"Year\", \"Month\", \"Day\"])\n",
    "\n",
    "# Find the average of unemployment rate and weighed valence for each date\n",
    "rate_v_tempo = music_unemployment_gb.mean()[[\"Unemployment Rate\", \"weighed tempo\"]]\n",
    "\n",
    "# Create a Scatter Graph\n",
    "x_values = rate_v_tempo[\"Unemployment Rate\"]\n",
    "y_values = rate_v_tempo[\"weighed tempo\"]\n",
    "linearplt(rate_v_tempo, x_values, y_values, \"Tempo\", (7,-1700))\n",
    "plt.title(\"Unemployment Rate vs. Tempo\")\n",
    "plt.show()\n"
   ]
  },
  {
   "cell_type": "markdown",
   "metadata": {},
   "source": [
    "Knowing that we might want to use this to predict what the next big hit by be, we decided to look at songs since 2010, because music has changed a lot from 1960 and on."
   ]
  },
  {
   "cell_type": "code",
   "execution_count": null,
   "metadata": {},
   "outputs": [],
   "source": [
    "# Find the data for songs 2010 and after\n",
    "music_unemployment_years = (music_unemployment.loc[(music_unemployment[\"Year\"]) >= 2010])\n",
    "music_unemployment_years\n",
    "\n",
    "# Group by the song's date\n",
    "music_unemployment_years_gb = music_unemployment_years.groupby([\"Year\", \"Month\", \"Day\"])\n",
    "\n",
    "# Find the average of unemployment rate and weighed valence for each date\n",
    "two_rate_v_tempo = music_unemployment_years_gb.mean()[[\"Unemployment Rate\", \"weighed tempo\"]]\n",
    "\n",
    "# Create a Scatter Graph\n",
    "x_values = rate_v_tempo[\"Unemployment Rate\"]\n",
    "y_values = rate_v_tempo[\"weighed tempo\"]\n",
    "linearplt(rate_v_tempo, x_values, y_values, \"Tempo\", (7,-1700))\n",
    "plt.title(\"Unemployment Rate vs. Tempo in Song 2010 and after\")\n",
    "plt.show()\n"
   ]
  },
  {
   "cell_type": "markdown",
   "metadata": {},
   "source": [
    "## Unemployment Rate vs. Energy\n",
    "\n",
    "We ran a regression for the unemployment rate versus energy and discovered there is a positive relationship between the energy in a song and the unemployment rate."
   ]
  },
  {
   "cell_type": "code",
   "execution_count": null,
   "metadata": {},
   "outputs": [],
   "source": [
    "#Create a weighed energy\n",
    "music_unemployment[\"weighed energy\"] = music_unemployment[\"energy\"] * (101 - music_unemployment[\"Placement\"])\n",
    "\n",
    "# Group by the song's date\n",
    "music_unemployment_gb = music_unemployment.groupby([\"Year\", \"Month\", \"Day\"])\n",
    "\n",
    "# Find the average of unemployment rate and weighed valence for each date\n",
    "rate_v_energy = music_unemployment_gb.mean()[[\"Unemployment Rate\", \"weighed energy\"]]\n",
    "\n",
    "# Create a Scatter Graph\n",
    "x_values = rate_v_energy[\"Unemployment Rate\"]\n",
    "y_values = rate_v_energy[\"weighed energy\"]\n",
    "linearplt(rate_v_energy, x_values, y_values, \"Energy\", (5,22))\n",
    "plt.title(\"Unemployment Rate vs. Energy\")\n",
    "plt.show()\n"
   ]
  },
  {
   "cell_type": "code",
   "execution_count": null,
   "metadata": {},
   "outputs": [],
   "source": [
    "# Find the data for songs 2010 and after\n",
    "music_unemployment_years = (music_unemployment.loc[(music_unemployment[\"Year\"]) >= 2010])\n",
    "music_unemployment_years\n",
    "                                  \n",
    "# Group by the song's date\n",
    "music_unemployment_years_gb = music_unemployment_years.groupby([\"Year\", \"Month\", \"Day\"])\n",
    "\n",
    "# Find the average of unemployment rate and weighed valence for each date\n",
    "two_rate_v_energy = music_unemployment_years_gb.mean()[[\"Unemployment Rate\", \"weighed energy\"]]\n",
    "\n",
    "# Create a Scatter Graph\n",
    "x_values = two_rate_v_energy[\"Unemployment Rate\"]\n",
    "y_values = two_rate_v_energy[\"weighed energy\"]\n",
    "linearplt(two_rate_v_energy, x_values, y_values, \"Energy\", (7,30))\n",
    "plt.title(\"Unemployment Rate vs. Energy in Songs since 2010\")\n",
    "plt.show()\n"
   ]
  },
  {
   "cell_type": "markdown",
   "metadata": {},
   "source": [
    "## Conclusion\n",
    "\n",
    "Happiness in a song did not have a strong correlation with the U.S. Employment Rate. However, we did discover that energy does have a correlation. When there is a high unemployment rate in the U.S., the top billboard songs are more likely to have higher energy than when there is a low unemployment rate.\n",
    "\n",
    "This is not great news for Taylor Swift's new album \"folklore\" that came out last week."
   ]
  }
 ],
 "metadata": {
  "kernelspec": {
   "display_name": "Python 3",
   "language": "python",
   "name": "python3"
  },
  "language_info": {
   "codemirror_mode": {
    "name": "ipython",
    "version": 3
   },
   "file_extension": ".py",
   "mimetype": "text/x-python",
   "name": "python",
   "nbconvert_exporter": "python",
   "pygments_lexer": "ipython3",
   "version": "3.6.10"
  }
 },
 "nbformat": 4,
 "nbformat_minor": 4
}
