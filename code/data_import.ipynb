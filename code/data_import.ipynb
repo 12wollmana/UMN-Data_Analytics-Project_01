{
 "cells": [
  {
   "cell_type": "code",
   "execution_count": null,
   "metadata": {},
   "outputs": [],
   "source": [
    "# Dependencies\n",
    "import pandas as pd"
   ]
  },
  {
   "cell_type": "code",
   "execution_count": null,
   "metadata": {},
   "outputs": [],
   "source": [
    "# Constants\n"
   ]
  },
  {
   "cell_type": "code",
   "execution_count": null,
   "metadata": {},
   "outputs": [],
   "source": [
    "# Aaron's Code"
   ]
  },
  {
   "cell_type": "code",
   "execution_count": null,
   "metadata": {},
   "outputs": [],
   "source": [
    "## Import Billboard Hits\n",
    "filepath = \"../data/external/billboard_hits/\"\n",
    "def import_billboard_hit(filename):\n",
    "    columns = [\"Date\"]\n",
    "    columns.extend(range(1,101))\n",
    "    return pd.read_csv(f\"{filepath}{filename}.csv\", \\\n",
    "                       encoding=\"ISO-8859-1\", names=columns)\n",
    "\n",
    "def import_billboard_feature(filename):\n",
    "    return pd.read_csv(f\"{filepath}{filename}.csv\", \\\n",
    "                       encoding=\"ISO-8859-1\")\n",
    "\n",
    "billboard_hits = []\n",
    "billboard_features = []\n",
    "for year in range(1960, 2020, 10):\n",
    "    print(f\"Importing {year}'s top 100.\")\n",
    "    billboard_hit = import_billboard_hit(f\"billboard{year}\")\n",
    "    print(f\"Importing {year}'s features.\")\n",
    "    billboard_feature = import_billboard_feature(f\"billboard{year}FeaturesDatabase\")\n",
    "    \n",
    "    billboard_hits.append(billboard_hit)\n",
    "    billboard_features.append(billboard_feature)"
   ]
  },
  {
   "cell_type": "code",
   "execution_count": null,
   "metadata": {},
   "outputs": [],
   "source": [
    "billboard_hits[0].head()"
   ]
  },
  {
   "cell_type": "code",
   "execution_count": null,
   "metadata": {},
   "outputs": [],
   "source": [
    "billboard_features[0].head()"
   ]
  },
  {
   "cell_type": "code",
   "execution_count": null,
   "metadata": {},
   "outputs": [],
   "source": [
    "# Combine Hits Dataframes\n",
    "all_billboard_hits = pd.concat(billboard_hits)\n",
    "all_billboard_hits = all_billboard_hits.reset_index()\n",
    "all_billboard_hits[\"Date\"].nunique()"
   ]
  },
  {
   "cell_type": "code",
   "execution_count": null,
   "metadata": {},
   "outputs": [],
   "source": [
    "# Combine Features Dataframes\n",
    "all_billboard_features = pd.concat(billboard_features)\n",
    "all_billboard_features[\"Track\"].nunique()"
   ]
  },
  {
   "cell_type": "code",
   "execution_count": null,
   "metadata": {},
   "outputs": [],
   "source": [
    "# Split the date\n",
    "split_dates = all_billboard_hits[\"Date\"].str.split(pat = \"-\", expand=True)\n",
    "split_dates.columns = [\"Year\", \"Month\", \"Day\"]\n",
    "all_billboard_hits[\"Year\"] = split_dates[\"Year\"]\n",
    "all_billboard_hits[\"Month\"] = split_dates[\"Month\"]\n",
    "all_billboard_hits[\"Day\"] = split_dates[\"Day\"]\n",
    "all_billboard_hits.head()"
   ]
  },
  {
   "cell_type": "code",
   "execution_count": null,
   "metadata": {},
   "outputs": [],
   "source": [
    "# Reform the hits table to split up song/artist to be able to merge\n",
    "def split_song_artist(song_artist):\n",
    "    song_artist = song_artist.replace('\"', \"'\")\n",
    "    split = song_artist.split(\"', '\")\n",
    "    song = split[0].replace(\"['\", \"\")\n",
    "    artist = split[1].replace(\"']\", \"\")\n",
    "    return (song, artist)"
   ]
  },
  {
   "cell_type": "code",
   "execution_count": null,
   "metadata": {},
   "outputs": [],
   "source": [
    "song_datas = []\n",
    "for index, row in all_billboard_hits.iterrows():\n",
    "    for hit_num in range(1, 101):\n",
    "        song_artist = row[hit_num]\n",
    "        try:\n",
    "            (song, artist) = split_song_artist(song_artist)\n",
    "        except:\n",
    "            print(f\"Couldn't parse {song_artist}\")\n",
    "            song = \"\"\n",
    "            artist = \"\"\n",
    "        song_data = {\n",
    "            \"Track\" : song,\n",
    "            \"Artist\" : artist,\n",
    "            \"Placement\" : hit_num,\n",
    "            \"Year\" : row[\"Year\"],\n",
    "            \"Month\" : row[\"Month\"],\n",
    "            \"Day\" : row[\"Day\"],\n",
    "        }\n",
    "        song_datas.append(song_data)"
   ]
  },
  {
   "cell_type": "code",
   "execution_count": null,
   "metadata": {},
   "outputs": [],
   "source": [
    "all_hits = pd.DataFrame(song_datas)\n",
    "all_hits.head()"
   ]
  },
  {
   "cell_type": "code",
   "execution_count": null,
   "metadata": {},
   "outputs": [],
   "source": [
    "# Merge Billboard Data and Spotify Data\n",
    "final_music = pd.merge(all_hits, all_billboard_features, on=[\"Track\", \"Artist\"])\n",
    "columns_to_drop = [\"URI\", \"mode\", \"duration_ms\", \"instrumentalness\", \n",
    "                   \"time_signature\", \"chorusHit\", \"sections\"]\n",
    "final_music = final_music.drop(columns = columns_to_drop)\n",
    "final_music = final_music.dropna()\n",
    "final_music.head()"
   ]
  },
  {
   "cell_type": "code",
   "execution_count": null,
   "metadata": {},
   "outputs": [],
   "source": [
    "# Save to CSV\n",
    "final_music.to_csv(\"../data/billboard_hits.csv\")"
   ]
  },
  {
   "cell_type": "code",
   "execution_count": null,
   "metadata": {},
   "outputs": [],
   "source": [
    "# End of Aaron's Code"
   ]
  },
  {
   "cell_type": "code",
   "execution_count": null,
   "metadata": {},
   "outputs": [],
   "source": [
    "# Albin's Code"
   ]
  },
  {
   "cell_type": "code",
   "execution_count": null,
   "metadata": {},
   "outputs": [],
   "source": [
    "# End of Albin's Code"
   ]
  },
  {
   "cell_type": "code",
   "execution_count": null,
   "metadata": {},
   "outputs": [],
   "source": [
    "# Kelsey's Code"
   ]
  },
  {
   "cell_type": "code",
   "execution_count": null,
   "metadata": {},
   "outputs": [],
   "source": [
    "# End of Kelsey's Code"
   ]
  },
  {
   "cell_type": "code",
   "execution_count": null,
   "metadata": {},
   "outputs": [],
   "source": [
    "# Will's Code"
   ]
  },
  {
   "cell_type": "code",
   "execution_count": null,
   "metadata": {},
   "outputs": [],
   "source": [
    "# End of Will's Code"
   ]
  }
 ],
 "metadata": {
  "kernelspec": {
   "display_name": "Python 3",
   "language": "python",
   "name": "python3"
  },
  "language_info": {
   "codemirror_mode": {
    "name": "ipython",
    "version": 3
   },
   "file_extension": ".py",
   "mimetype": "text/x-python",
   "name": "python",
   "nbconvert_exporter": "python",
   "pygments_lexer": "ipython3",
   "version": "3.6.10"
  }
 },
 "nbformat": 4,
 "nbformat_minor": 4
}
