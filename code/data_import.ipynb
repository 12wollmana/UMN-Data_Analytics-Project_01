{
 "cells": [
  {
   "cell_type": "markdown",
   "metadata": {},
   "source": [
    "# Data Import\n",
    "<em>Aaron Wollman, Albin Joseph, Kelsey Richardson Blackwell, Will Huang</em>\n",
    "\n",
    "In this notebook, the code will import the data for Billboard Top 100, Spotify, and Unemployment from the data folder.  Once the code is imported, it will be cleaned.  After clean-up, all of the data will be merged to be used in the Data Analysis notebook."
   ]
  },
  {
   "cell_type": "code",
   "execution_count": null,
   "metadata": {},
   "outputs": [],
   "source": [
    "# Dependencies\n",
    "import pandas as pd"
   ]
  },
  {
   "cell_type": "markdown",
   "metadata": {},
   "source": [
    "## Import Billboard and Spotify Data\n",
    "First, the code will import the data from Billboard and Spotify. These are stored in our data/external folder. \n",
    "\n",
    "Billboard Top 100 Data is stored in <i>billboard{decade}.csv</i>, while the Spotify data for the Top 100 is stored in <i>billboard{decade}FeaturesDatabase.csv</i>.  \n",
    "\n",
    "The code loops over each decade and append the dataframes to lists for Billboard and Spotify."
   ]
  },
  {
   "cell_type": "code",
   "execution_count": null,
   "metadata": {},
   "outputs": [],
   "source": [
    "filepath = \"../data/external/billboard_hits/\"\n",
    "def import_billboard_hit(filename):\n",
    "    columns = [\"Date\"]\n",
    "    columns.extend(range(1,101))\n",
    "    return pd.read_csv(f\"{filepath}{filename}.csv\", \\\n",
    "                       encoding=\"ISO-8859-1\", names=columns)\n",
    "\n",
    "def import_billboard_feature(filename):\n",
    "    return pd.read_csv(f\"{filepath}{filename}.csv\", \\\n",
    "                       encoding=\"ISO-8859-1\")\n",
    "\n",
    "billboard_hits = []\n",
    "billboard_features = []\n",
    "for year in range(1960, 2020, 10):\n",
    "    print(f\"Importing {year}'s top 100.\")\n",
    "    billboard_hit = import_billboard_hit(f\"billboard{year}\")\n",
    "    print(f\"Importing {year}'s features.\")\n",
    "    billboard_feature = import_billboard_feature(f\"billboard{year}FeaturesDatabase\")\n",
    "    \n",
    "    billboard_hits.append(billboard_hit)\n",
    "    billboard_features.append(billboard_feature)"
   ]
  },
  {
   "cell_type": "code",
   "execution_count": null,
   "metadata": {},
   "outputs": [],
   "source": [
    "billboard_hits[0].head()"
   ]
  },
  {
   "cell_type": "code",
   "execution_count": null,
   "metadata": {},
   "outputs": [],
   "source": [
    "billboard_features[0].head()"
   ]
  },
  {
   "cell_type": "markdown",
   "metadata": {},
   "source": [
    "### Combine the Decade Data for Billboard and Spotify\n",
    "Now that the code has the data as a list of dataframes per decade for both the Top 100 and the Spotify data, the code now needs to combine the decade data for easier processing.  There will be two dataframes with the Top 100 and the Spotify data, respectively."
   ]
  },
  {
   "cell_type": "code",
   "execution_count": null,
   "metadata": {},
   "outputs": [],
   "source": [
    "# Combine Hits Dataframes\n",
    "all_billboard_hits = pd.concat(billboard_hits)\n",
    "all_billboard_hits = all_billboard_hits.reset_index()\n",
    "all_billboard_hits[\"Date\"].nunique()"
   ]
  },
  {
   "cell_type": "code",
   "execution_count": null,
   "metadata": {},
   "outputs": [],
   "source": [
    "# Combine Features Dataframes\n",
    "all_billboard_features = pd.concat(billboard_features)\n",
    "all_billboard_features[\"Track\"].nunique()"
   ]
  },
  {
   "cell_type": "markdown",
   "metadata": {},
   "source": [
    "### Data Cleanup\n",
    "This data will be merged with the unemployment data later on the year and month. To be able to do so, the code needs to split the Date column in the Billboard data into Year, Month, and Day."
   ]
  },
  {
   "cell_type": "code",
   "execution_count": null,
   "metadata": {},
   "outputs": [],
   "source": [
    "# Split the date\n",
    "split_dates = all_billboard_hits[\"Date\"].str.split(pat = \"-\", expand=True)\n",
    "split_dates.columns = [\"Year\", \"Month\", \"Day\"]\n",
    "all_billboard_hits[\"Year\"] = split_dates[\"Year\"]\n",
    "all_billboard_hits[\"Month\"] = split_dates[\"Month\"]\n",
    "all_billboard_hits[\"Day\"] = split_dates[\"Day\"]\n",
    "all_billboard_hits.head()"
   ]
  },
  {
   "cell_type": "markdown",
   "metadata": {},
   "source": [
    "Then, to be able to merge the Spotify and Billboard dataframes, the code needs to split the actual song and artist data as those are not discrete at this point."
   ]
  },
  {
   "cell_type": "code",
   "execution_count": null,
   "metadata": {},
   "outputs": [],
   "source": [
    "# Reform the hits table to split up song/artist to be able to merge\n",
    "def split_song_artist(song_artist):\n",
    "    song_artist = song_artist.replace('\"', \"'\")\n",
    "    split = song_artist.split(\"', '\")\n",
    "    song = split[0].replace(\"['\", \"\")\n",
    "    artist = split[1].replace(\"']\", \"\")\n",
    "    return (song, artist)"
   ]
  },
  {
   "cell_type": "code",
   "execution_count": null,
   "metadata": {},
   "outputs": [],
   "source": [
    "song_datas = []\n",
    "for index, row in all_billboard_hits.iterrows():\n",
    "    for hit_num in range(1, 101):\n",
    "        song_artist = row[hit_num]\n",
    "        try:\n",
    "            (song, artist) = split_song_artist(song_artist)\n",
    "        except:\n",
    "            print(f\"Couldn't parse {song_artist}\")\n",
    "            song = \"\"\n",
    "            artist = \"\"\n",
    "        song_data = {\n",
    "            \"Track\" : song,\n",
    "            \"Artist\" : artist,\n",
    "            \"Placement\" : hit_num,\n",
    "            \"Year\" : row[\"Year\"],\n",
    "            \"Month\" : row[\"Month\"],\n",
    "            \"Day\" : row[\"Day\"],\n",
    "        }\n",
    "        song_datas.append(song_data)"
   ]
  },
  {
   "cell_type": "code",
   "execution_count": null,
   "metadata": {},
   "outputs": [],
   "source": [
    "all_hits = pd.DataFrame(song_datas)\n",
    "all_hits.head()"
   ]
  },
  {
   "cell_type": "markdown",
   "metadata": {},
   "source": [
    "### Merge Billboard and Spotify Data\n",
    "Now that the data is cleaned up, the Billboard and Spotify data can be merged on the song title and artist.  This merged dataframe will be used later to be merged with the unemployment data."
   ]
  },
  {
   "cell_type": "code",
   "execution_count": null,
   "metadata": {},
   "outputs": [],
   "source": [
    "# Merge Billboard Data and Spotify Data\n",
    "final_music = pd.merge(all_hits, all_billboard_features, on=[\"Track\", \"Artist\"])\n",
    "columns_to_drop = [\"URI\", \"mode\", \"duration_ms\", \"instrumentalness\", \n",
    "                   \"time_signature\", \"chorusHit\", \"sections\"]\n",
    "final_music[\"Year\"] = final_music[\"Year\"].astype(\"int\")\n",
    "final_music = final_music.drop(columns = columns_to_drop)\n",
    "final_music = final_music.dropna()\n",
    "final_music.head()"
   ]
  },
  {
   "cell_type": "code",
   "execution_count": null,
   "metadata": {},
   "outputs": [],
   "source": [
    "# Save to CSV\n",
    "final_music.to_csv(\"../data/billboard_hits.csv\")"
   ]
  },
  {
   "cell_type": "markdown",
   "metadata": {},
   "source": [
    "## Import Unemployment"
   ]
  },
  {
   "cell_type": "code",
   "execution_count": null,
   "metadata": {},
   "outputs": [],
   "source": [
    "umemployment_data = pd.read_csv(\"../data/external/unemployment_rate.csv\")\n",
    "umemployment_data.head()"
   ]
  },
  {
   "cell_type": "markdown",
   "metadata": {},
   "source": [
    "After import, the unemployment data isn't structured for merging with the music data. The issue is that the dataframe has the months as columns. Months needs to be a column for merging, so the data needs to be flattened."
   ]
  },
  {
   "cell_type": "code",
   "execution_count": null,
   "metadata": {},
   "outputs": [],
   "source": [
    "unemployment_months = []\n",
    "for index, row in umemployment_data.iterrows():\n",
    "    year = row[\"Year\"]\n",
    "    for month_num in [\"01\", \"02\", \"03\", \"04\", \"05\", \"06\", \"07\", \"08\", \"09\", \"10\", \"11\", \"12\"]:\n",
    "        unemployment_rate = row[month_num]\n",
    "        unemployment_month = {\n",
    "            \"Year\" : year,\n",
    "            \"Month\" : month_num,\n",
    "            \"Unemployment Rate\" : unemployment_rate\n",
    "        }        \n",
    "        unemployment_months.append(unemployment_month)\n",
    "\n",
    "unemployment_months[0]"
   ]
  },
  {
   "cell_type": "code",
   "execution_count": null,
   "metadata": {},
   "outputs": [],
   "source": [
    "unemployment_df = pd.DataFrame(unemployment_months)\n",
    "unemployment_df[\"Year\"] = unemployment_df[\"Year\"].astype(\"int\")\n",
    "unemployment_df.head()"
   ]
  },
  {
   "cell_type": "code",
   "execution_count": null,
   "metadata": {},
   "outputs": [],
   "source": [
    "unemployment_df.to_csv(\"../data/unemployment.csv\")"
   ]
  },
  {
   "cell_type": "markdown",
   "metadata": {},
   "source": [
    "## Merge Music and Unemployment\n",
    "Now that the code has the music and unemployment data in a format that can be merged, it's time to do the merge.  For each song, the code will add the unemployment data for the year and months when the song was on the Top 100.  This data will then be used in the Data Analysis notebook."
   ]
  },
  {
   "cell_type": "code",
   "execution_count": null,
   "metadata": {},
   "outputs": [],
   "source": [
    "music_and_unemployment = pd.merge(final_music, unemployment_df,\\\n",
    "                                  on=[\"Year\", \"Month\"])\n",
    "music_and_unemployment.head()"
   ]
  },
  {
   "cell_type": "code",
   "execution_count": null,
   "metadata": {},
   "outputs": [],
   "source": [
    "music_and_unemployment.to_csv(\"../data/music_and_unemployment.csv\")"
   ]
  },
  {
   "cell_type": "code",
   "execution_count": null,
   "metadata": {},
   "outputs": [],
   "source": []
  }
 ],
 "metadata": {
  "kernelspec": {
   "display_name": "Python 3",
   "language": "python",
   "name": "python3"
  },
  "language_info": {
   "codemirror_mode": {
    "name": "ipython",
    "version": 3
   },
   "file_extension": ".py",
   "mimetype": "text/x-python",
   "name": "python",
   "nbconvert_exporter": "python",
   "pygments_lexer": "ipython3",
   "version": "3.6.10"
  }
 },
 "nbformat": 4,
 "nbformat_minor": 4
}
