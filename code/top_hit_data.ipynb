{
 "cells": [
  {
   "cell_type": "code",
   "execution_count": 1,
   "metadata": {},
   "outputs": [],
   "source": [
    "import requests\n",
    "from bs4 import BeautifulSoup\n",
    "import csv\n",
    "import pandas as pd"
   ]
  },
  {
   "cell_type": "code",
   "execution_count": 2,
   "metadata": {},
   "outputs": [
    {
     "data": {
      "text/plain": [
       "[2015, 2016, 2017, 2018, 2019, 2020]"
      ]
     },
     "execution_count": 2,
     "metadata": {},
     "output_type": "execute_result"
    }
   ],
   "source": [
    "year_list=list(range(2015,2021,1))\n",
    "year_list"
   ]
  },
  {
   "cell_type": "code",
   "execution_count": 3,
   "metadata": {},
   "outputs": [
    {
     "name": "stdout",
     "output_type": "stream",
     "text": [
      "2020 top 100 data is not avaiable\n"
     ]
    }
   ],
   "source": [
    "for year in year_list:\n",
    "    n=0\n",
    "    billboard_page = \"https://en.wikipedia.org/wiki/Billboard_Year-End_Hot_100_singles_of_\"\n",
    "    try:\n",
    "        page = requests.get(billboard_page + str(year))\n",
    "        soup = BeautifulSoup(page.content, 'html.parser')\n",
    "        data = soup.find(\"table\", {\"class\": \"wikitable\"}).find('tbody')\n",
    "        with open(f'../data/{year}_top100.csv','w') as csv_file:\n",
    "            song_writer = csv.writer(csv_file, delimiter=',')\n",
    "            song_writer.writerow(['Year','Rank','Title','Artist'])\n",
    "            for row in data.find_all('tr')[1:]:\n",
    "                n+=1\n",
    "                title=row.find_all(\"a\")[0].text\n",
    "                artist=row.find_all(\"a\")[1].text\n",
    "                song_writer.writerow([year,n,title,artist])\n",
    "    except:\n",
    "        print(f'{year} top 100 data is not avaiable')\n",
    "\n",
    "        \n",
    "#code modified from https://github.com/awcooper/spotify_billboard_playlist_generator/blob/master/playlist_generators/hot_100_scraper_v1.py"
   ]
  },
  {
   "cell_type": "code",
   "execution_count": 8,
   "metadata": {},
   "outputs": [],
   "source": [
    "def read_file(filename):\n",
    "    data=pd.read_csv(filename)\n",
    "    print(data.head(),'\\n')"
   ]
  },
  {
   "cell_type": "code",
   "execution_count": 9,
   "metadata": {},
   "outputs": [
    {
     "name": "stdout",
     "output_type": "stream",
     "text": [
      "   Year  Rank              Title       Artist\n",
      "0  2015     1        Uptown Funk  Mark Ronson\n",
      "1  2015     2  Thinking Out Loud   Ed Sheeran\n",
      "2  2015     3      See You Again  Wiz Khalifa\n",
      "3  2015     4         Trap Queen    Fetty Wap\n",
      "4  2015     5              Sugar     Maroon 5 \n",
      "\n",
      "   Year  Rank          Title             Artist\n",
      "0  2016     1  Love Yourself      Justin Bieber\n",
      "1  2016     2          Sorry      Justin Bieber\n",
      "2  2016     3      One Dance              Drake\n",
      "3  2016     4           Work            Rihanna\n",
      "4  2016     5   Stressed Out  Twenty One Pilots \n",
      "\n",
      "   Year  Rank                     Title            Artist\n",
      "0  2017     1              Shape of You        Ed Sheeran\n",
      "1  2017     2         Despacito (Remix)        Luis Fonsi\n",
      "2  2017     3        That's What I Like        Bruno Mars\n",
      "3  2017     4                    Humble    Kendrick Lamar\n",
      "4  2017     5  Something Just Like This  The Chainsmokers \n",
      "\n",
      "   Year  Rank        Title          Artist\n",
      "0  2018     1   God's Plan           Drake\n",
      "1  2018     2      Perfect      Ed Sheeran\n",
      "2  2018     3  Meant to Be      Bebe Rexha\n",
      "3  2018     4       Havana  Camila Cabello\n",
      "4  2018     5     Rockstar     Post Malone \n",
      "\n",
      "   Year  Rank          Title         Artist\n",
      "0  2019     1  Old Town Road      Lil Nas X\n",
      "1  2019     2      Sunflower    Post Malone\n",
      "2  2019     3     Without Me         Halsey\n",
      "3  2019     4        Bad Guy  Billie Eilish\n",
      "4  2019     5            Wow    Post Malone \n",
      "\n",
      "2020 top 100 data is not avaiable\n"
     ]
    }
   ],
   "source": [
    "for year in year_list:\n",
    "    try:\n",
    "        read_file(f'{year}_top100.csv')\n",
    "    except:\n",
    "        print(f'{year} top 100 data is not avaiable')"
   ]
  },
  {
   "cell_type": "code",
   "execution_count": 28,
   "metadata": {},
   "outputs": [],
   "source": [
    "import datetime\n",
    "import billboard\n",
    "import time\n",
    "\n",
    "start = datetime.datetime.strptime(\"2020-01-01\", \"%Y-%m-%d\")\n",
    "end = datetime.datetime.strptime(\"2020-07-23\",\"%Y-%m-%d\")\n",
    "date_generated = [start + datetime.timedelta(days=x) for x in range(0, (end-start).days)]\n",
    "#code modified from https://stackoverflow.com/questions/993358/creating-a-range-of-dates-in-python by HpTerm & Sandeep\n",
    "\n",
    "with open('../data/2020_top100.csv','w') as csv_file:\n",
    "    song_writer = csv.writer(csv_file, delimiter=',')\n",
    "    song_writer.writerow(['Year','Date','Rank','Title','Artist'])\n",
    "    for date in date_generated:\n",
    "        chart = billboard.ChartData('hot-100',date=(date.strftime(\"%Y-%m-%d\")))\n",
    "        #time.sleep(0.5)\n",
    "        for i in range(0,100):\n",
    "            #time.sleep(0.01)\n",
    "            song = chart[i]  \n",
    "            year=2020\n",
    "            rank=int(i)+1\n",
    "            title=song.title\n",
    "            artist=song.artist\n",
    "            song_writer.writerow([year,date.strftime(\"%Y-%m-%d\"),rank,title,artist])\n",
    "\n",
    "            \n",
    "#code modified from https://github.com/guoguo12/billboard-charts"
   ]
  },
  {
   "cell_type": "code",
   "execution_count": 39,
   "metadata": {},
   "outputs": [
    {
     "name": "stdout",
     "output_type": "stream",
     "text": [
      "   Year        Date  Rank                              Title        Artist\n",
      "0  2020  2020-01-01     1    All I Want For Christmas Is You  Mariah Carey\n",
      "1  2020  2020-01-01     2  Rockin' Around The Christmas Tree    Brenda Lee\n",
      "2  2020  2020-01-01     3                   Jingle Bell Rock   Bobby Helms\n",
      "3  2020  2020-01-01     4            A Holly Jolly Christmas     Burl Ives\n",
      "4  2020  2020-01-01     5                            Circles   Post Malone \n",
      "\n"
     ]
    }
   ],
   "source": [
    "read_file('2020_top100.csv')"
   ]
  },
  {
   "cell_type": "code",
   "execution_count": null,
   "metadata": {},
   "outputs": [],
   "source": []
  }
 ],
 "metadata": {
  "kernelspec": {
   "display_name": "Python 3",
   "language": "python",
   "name": "python3"
  },
  "language_info": {
   "codemirror_mode": {
    "name": "ipython",
    "version": 3
   },
   "file_extension": ".py",
   "mimetype": "text/x-python",
   "name": "python",
   "nbconvert_exporter": "python",
   "pygments_lexer": "ipython3",
   "version": "3.7.4"
  }
 },
 "nbformat": 4,
 "nbformat_minor": 2
}
